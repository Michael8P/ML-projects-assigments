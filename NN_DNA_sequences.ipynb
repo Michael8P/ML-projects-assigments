{
  "nbformat": 4,
  "nbformat_minor": 0,
  "metadata": {
    "colab": {
      "provenance": []
    },
    "kernelspec": {
      "name": "python3",
      "display_name": "Python 3"
    },
    "language_info": {
      "name": "python"
    }
  },
  "cells": [
    {
      "cell_type": "markdown",
      "source": [
        "# Homework 3: Sequence Identification Problem <15 points in total>\n",
        "\n",
        "## Introduction\n",
        "In class, we saw an example of how to use deep learning with the `Keras` package to discover binding motif in DNA. In this practice problem, we will practice using `PyTorch` to implement a neural network that can identify a binding motif. \n",
        "\n",
        "\n",
        "We will first use our model to predict whether or not a given DNA sequence has a transcriptor-factor binding site. \n",
        "\n",
        "`dna_sequence.txt` stores the dna sequences which have a uniform length of 50.\n",
        "\n",
        "`labels.txt` stores the corresponding labels of the dna sequences. 1 represents that the sequence has the binding motif, and 0 represents that the sequence doesn't have the binding motif.\n",
        "\n",
        "Our goal is to train a neural network that can predict whether or not the given DNA sequence contains the motif of a transcriptor-factor binding site.\n",
        "\n",
        "Next, we will try to interpret the trained model to understand what pattern the model is trying to identify. \n"
      ],
      "metadata": {
        "id": "DphP3S31PuC5"
      }
    },
    {
      "cell_type": "markdown",
      "source": [
        "## What needs to be done-\n",
        "\n",
        "#### Task 1. Complete the code for `task1` and train the model <10 points>\n",
        "\n",
        "Validation accuracy will have to be above 90% to get full credit\n",
        "\n",
        "\n",
        "#### Task 2. Interpret the model and find the motif <5 points>\n",
        "Identify the motif and write it in the notebook\n",
        "\n",
        "\n",
        "\n",
        "##### <font color='Red'>For this programming problem, you only need to submit the code (notebook with the output displayed and the answer for task2) on gradescope. You don't need to write anything on the assignment PDF file</font>\n",
        "</font>\n"
      ],
      "metadata": {
        "id": "5ljTXj7AUcwo"
      }
    },
    {
      "cell_type": "markdown",
      "source": [
        "## Environmet\n",
        "\n",
        "To run this code, you may have to install `numpy`, `torch`, `sckikit-learn`, `pandas`, and `matplotlib`, if you haven't done so and are running locally."
      ],
      "metadata": {
        "id": "GgL0zVxcVCHr"
      }
    },
    {
      "cell_type": "code",
      "execution_count": null,
      "metadata": {
        "id": "uJ03GSaUiOq7"
      },
      "outputs": [],
      "source": [
        "import numpy as np\n",
        "import pandas as pd\n",
        "import matplotlib.pyplot as plt\n",
        "from sklearn.preprocessing import LabelEncoder, OneHotEncoder\n",
        "from sklearn.model_selection import train_test_split\n",
        "import torch\n",
        "import torch.nn as nn\n",
        "import torch.nn.functional as F\n",
        "import torch.optim as optim\n",
        "from torch.utils.data import TensorDataset\n",
        "from torch.utils.data import DataLoader\n",
        "from sklearn.metrics import confusion_matrix, ConfusionMatrixDisplay"
      ]
    },
    {
      "cell_type": "markdown",
      "source": [
        "## Read in the data\n",
        "First, let's read in the dna sequence data and its labels."
      ],
      "metadata": {
        "id": "l6dGohk6Vau8"
      }
    },
    {
      "cell_type": "code",
      "source": [
        "!wget https://www.dropbox.com/s/xz1jdg4z7bmx69g/dna_sequence.txt?dl=1 -O dna_sequence.txt\n",
        "!wget https://www.dropbox.com/s/gyd0k1kv7wfefjf/labels.txt?dl=1 -O labels.txt"
      ],
      "metadata": {
        "id": "VO0WFzTzvM5G",
        "colab": {
          "base_uri": "https://localhost:8080/"
        },
        "outputId": "4f29cf26-29ce-44d6-cf98-613f5543cb9a"
      },
      "execution_count": null,
      "outputs": [
        {
          "output_type": "stream",
          "name": "stdout",
          "text": [
            "--2023-04-06 20:59:00--  https://www.dropbox.com/s/xz1jdg4z7bmx69g/dna_sequence.txt?dl=1\n",
            "Resolving www.dropbox.com (www.dropbox.com)... 162.125.67.18, 2620:100:6021:18::a27d:4112\n",
            "Connecting to www.dropbox.com (www.dropbox.com)|162.125.67.18|:443... connected.\n",
            "HTTP request sent, awaiting response... 302 Found\n",
            "Location: /s/dl/xz1jdg4z7bmx69g/dna_sequence.txt [following]\n",
            "--2023-04-06 20:59:01--  https://www.dropbox.com/s/dl/xz1jdg4z7bmx69g/dna_sequence.txt\n",
            "Reusing existing connection to www.dropbox.com:443.\n",
            "HTTP request sent, awaiting response... 302 Found\n",
            "Location: https://uc14f556c8407c10a231efc33be6.dl.dropboxusercontent.com/cd/0/get/B5rl5UgFn1gDvE7pFm7cm0EO8-HrDguY0rHp42_PYSESYBGIqcxpk4JAyugIuL8bK8TGrsjzsL5i1EDW9bChmCbhwhTappqfsZdn4x8CFWs6c6K3TXDWcpblOW2P7dPiuReijs_uzrZtxBMrJHwfnOEwV9YI7vmwXsw3ybjiVUJl1pglqTeQDVT6lwvOFKg8bjE/file?dl=1# [following]\n",
            "--2023-04-06 20:59:01--  https://uc14f556c8407c10a231efc33be6.dl.dropboxusercontent.com/cd/0/get/B5rl5UgFn1gDvE7pFm7cm0EO8-HrDguY0rHp42_PYSESYBGIqcxpk4JAyugIuL8bK8TGrsjzsL5i1EDW9bChmCbhwhTappqfsZdn4x8CFWs6c6K3TXDWcpblOW2P7dPiuReijs_uzrZtxBMrJHwfnOEwV9YI7vmwXsw3ybjiVUJl1pglqTeQDVT6lwvOFKg8bjE/file?dl=1\n",
            "Resolving uc14f556c8407c10a231efc33be6.dl.dropboxusercontent.com (uc14f556c8407c10a231efc33be6.dl.dropboxusercontent.com)... 162.125.65.15, 2620:100:6027:15::a27d:480f\n",
            "Connecting to uc14f556c8407c10a231efc33be6.dl.dropboxusercontent.com (uc14f556c8407c10a231efc33be6.dl.dropboxusercontent.com)|162.125.65.15|:443... connected.\n",
            "HTTP request sent, awaiting response... 200 OK\n",
            "Length: 102000 (100K) [application/binary]\n",
            "Saving to: ‘dna_sequence.txt’\n",
            "\n",
            "dna_sequence.txt    100%[===================>]  99.61K  --.-KB/s    in 0.01s   \n",
            "\n",
            "2023-04-06 20:59:02 (9.99 MB/s) - ‘dna_sequence.txt’ saved [102000/102000]\n",
            "\n",
            "--2023-04-06 20:59:02--  https://www.dropbox.com/s/gyd0k1kv7wfefjf/labels.txt?dl=1\n",
            "Resolving www.dropbox.com (www.dropbox.com)... 162.125.67.18, 2620:100:6021:18::a27d:4112\n",
            "Connecting to www.dropbox.com (www.dropbox.com)|162.125.67.18|:443... connected.\n",
            "HTTP request sent, awaiting response... 302 Found\n",
            "Location: /s/dl/gyd0k1kv7wfefjf/labels.txt [following]\n",
            "--2023-04-06 20:59:02--  https://www.dropbox.com/s/dl/gyd0k1kv7wfefjf/labels.txt\n",
            "Reusing existing connection to www.dropbox.com:443.\n",
            "HTTP request sent, awaiting response... 302 Found\n",
            "Location: https://ucbc02feacd0c28036269e29070f.dl.dropboxusercontent.com/cd/0/get/B5oPOXm54SYyGluPf8DCVAGHcsd_j1AbJl5m1M8l1Gzl-pZS7mMfASPhgYNuoa7bCJYG3dDJDJzT2wEejXGd4fUOGkoHy_q3D90ATOnz6Bjb_fzgt7-tPcV48QTAjf1eI_U9plzwYpeiTVjiE0BMG550uIVaxzKQhfDaWERTwkmgUlS8VRZRrxPJggxuxVKgtXA/file?dl=1# [following]\n",
            "--2023-04-06 20:59:03--  https://ucbc02feacd0c28036269e29070f.dl.dropboxusercontent.com/cd/0/get/B5oPOXm54SYyGluPf8DCVAGHcsd_j1AbJl5m1M8l1Gzl-pZS7mMfASPhgYNuoa7bCJYG3dDJDJzT2wEejXGd4fUOGkoHy_q3D90ATOnz6Bjb_fzgt7-tPcV48QTAjf1eI_U9plzwYpeiTVjiE0BMG550uIVaxzKQhfDaWERTwkmgUlS8VRZRrxPJggxuxVKgtXA/file?dl=1\n",
            "Resolving ucbc02feacd0c28036269e29070f.dl.dropboxusercontent.com (ucbc02feacd0c28036269e29070f.dl.dropboxusercontent.com)... 162.125.65.15, 2620:100:6027:15::a27d:480f\n",
            "Connecting to ucbc02feacd0c28036269e29070f.dl.dropboxusercontent.com (ucbc02feacd0c28036269e29070f.dl.dropboxusercontent.com)|162.125.65.15|:443... connected.\n",
            "HTTP request sent, awaiting response... 200 OK\n",
            "Length: 4000 (3.9K) [application/binary]\n",
            "Saving to: ‘labels.txt’\n",
            "\n",
            "labels.txt          100%[===================>]   3.91K  --.-KB/s    in 0s      \n",
            "\n",
            "2023-04-06 20:59:03 (618 MB/s) - ‘labels.txt’ saved [4000/4000]\n",
            "\n"
          ]
        }
      ]
    },
    {
      "cell_type": "code",
      "source": [
        "seqs = pd.read_csv(\"dna_sequence.txt\", sep = \"\\t\", header = None).to_numpy()\n",
        "labels = pd.read_csv(\"labels.txt\", sep = \"\\t\", header = None).to_numpy()"
      ],
      "metadata": {
        "id": "hFtqT9X3viLg"
      },
      "execution_count": null,
      "outputs": []
    },
    {
      "cell_type": "code",
      "source": [
        "seqs"
      ],
      "metadata": {
        "id": "KzREGQc3SqE-",
        "colab": {
          "base_uri": "https://localhost:8080/"
        },
        "outputId": "6daa1aa2-a4cf-4c04-c66e-85dd25357f93"
      },
      "execution_count": null,
      "outputs": [
        {
          "output_type": "execute_result",
          "data": {
            "text/plain": [
              "array([['TACTAGTATTCTCCGCACATCAACTGGAATTCTACCGGTTTTTGTCCGGT'],\n",
              "       ['CGCTACAGTCCCGTACTTAACTCTTTGATCTCGTATTCAAAAACGATTGC'],\n",
              "       ['CACCCCTGGGGTTACAGCTATCATCACCATCATGGTACAGTTCCCACCCG'],\n",
              "       ...,\n",
              "       ['TCGTTCCACTTAGCCAGATGTAAGTAGCACTATACAGTCCCGTACTATCT'],\n",
              "       ['GGGGACTGCGATCCTTCTTTCGCGACCACGTCAGTACATTTGTTATAGTC'],\n",
              "       ['TGAAGTCCCGTACTCGATTGCCACGGCTTTTACTCAATATACCTGCACGG']],\n",
              "      dtype=object)"
            ]
          },
          "metadata": {},
          "execution_count": 441
        }
      ]
    },
    {
      "cell_type": "code",
      "source": [
        "labels"
      ],
      "metadata": {
        "id": "yQ3xLU3kVxUM",
        "colab": {
          "base_uri": "https://localhost:8080/"
        },
        "outputId": "d8679868-7f74-451c-fc99-4266d68e3bb0"
      },
      "execution_count": null,
      "outputs": [
        {
          "output_type": "execute_result",
          "data": {
            "text/plain": [
              "array([[0],\n",
              "       [1],\n",
              "       [0],\n",
              "       ...,\n",
              "       [1],\n",
              "       [0],\n",
              "       [1]])"
            ]
          },
          "metadata": {},
          "execution_count": 442
        }
      ]
    },
    {
      "cell_type": "markdown",
      "source": [
        "## Preprocessing the dataset\n",
        "In order to enable the models to read the data, we need to transform the sequences into a machine readable format. Here, we are using one-hot encoding for the sequence data."
      ],
      "metadata": {
        "id": "iLvldiNVVyzN"
      }
    },
    {
      "cell_type": "code",
      "source": [
        "def OneHotEncoding(sequences):\n",
        "  integer_encoder = LabelEncoder() \n",
        "  one_hot_encoder = OneHotEncoder(categories='auto')\n",
        "  input_features = []\n",
        "  for sequence in sequences:\n",
        "    integer_encoded = integer_encoder.fit_transform(list(sequence[0]))\n",
        "    integer_encoded = np.array(integer_encoded).reshape(-1, 1)\n",
        "    one_hot_encoded = one_hot_encoder.fit_transform(integer_encoded)\n",
        "    input_features.append(one_hot_encoded.toarray().T)\n",
        "  input_features = np.stack(input_features)      \n",
        "\n",
        "  return input_features\n",
        "\n",
        "\n",
        "input_features = OneHotEncoding(seqs)\n",
        "\n",
        "print(\"Example sequence\\n-----------------------\")\n",
        "print('DNA Sequence #1:\\n',seqs[0])\n",
        "print('One hot encoding of Sequence #1:\\n',input_features[0])\n"
      ],
      "metadata": {
        "id": "GgtaJpBVwamv",
        "colab": {
          "base_uri": "https://localhost:8080/"
        },
        "outputId": "fcf9a995-b66f-4df5-b670-3a3e33218076"
      },
      "execution_count": null,
      "outputs": [
        {
          "output_type": "stream",
          "name": "stdout",
          "text": [
            "Example sequence\n",
            "-----------------------\n",
            "DNA Sequence #1:\n",
            " ['TACTAGTATTCTCCGCACATCAACTGGAATTCTACCGGTTTTTGTCCGGT']\n",
            "One hot encoding of Sequence #1:\n",
            " [[0. 1. 0. 0. 1. 0. 0. 1. 0. 0. 0. 0. 0. 0. 0. 0. 1. 0. 1. 0. 0. 1. 1. 0.\n",
            "  0. 0. 0. 1. 1. 0. 0. 0. 0. 1. 0. 0. 0. 0. 0. 0. 0. 0. 0. 0. 0. 0. 0. 0.\n",
            "  0. 0.]\n",
            " [0. 0. 1. 0. 0. 0. 0. 0. 0. 0. 1. 0. 1. 1. 0. 1. 0. 1. 0. 0. 1. 0. 0. 1.\n",
            "  0. 0. 0. 0. 0. 0. 0. 1. 0. 0. 1. 1. 0. 0. 0. 0. 0. 0. 0. 0. 0. 1. 1. 0.\n",
            "  0. 0.]\n",
            " [0. 0. 0. 0. 0. 1. 0. 0. 0. 0. 0. 0. 0. 0. 1. 0. 0. 0. 0. 0. 0. 0. 0. 0.\n",
            "  0. 1. 1. 0. 0. 0. 0. 0. 0. 0. 0. 0. 1. 1. 0. 0. 0. 0. 0. 1. 0. 0. 0. 1.\n",
            "  1. 0.]\n",
            " [1. 0. 0. 1. 0. 0. 1. 0. 1. 1. 0. 1. 0. 0. 0. 0. 0. 0. 0. 1. 0. 0. 0. 0.\n",
            "  1. 0. 0. 0. 0. 1. 1. 0. 1. 0. 0. 0. 0. 0. 1. 1. 1. 1. 1. 0. 1. 0. 0. 0.\n",
            "  0. 1.]]\n"
          ]
        }
      ]
    },
    {
      "cell_type": "markdown",
      "source": [
        "Split the data into training and validating dataset, and transform them into tensors."
      ],
      "metadata": {
        "id": "R-kdgxsfYpYj"
      }
    },
    {
      "cell_type": "code",
      "source": [
        "train_features, val_features, train_labels, val_labels = train_test_split(\n",
        "    input_features, labels, test_size=0.25, random_state=42)\n",
        "\n",
        "train_labels = torch.as_tensor(train_labels)\n",
        "train_features = torch.as_tensor(train_features)\n",
        "val_features = torch.as_tensor(val_features)\n",
        "val_labels = torch.as_tensor(val_labels)"
      ],
      "metadata": {
        "id": "88k6WljexO_9"
      },
      "execution_count": null,
      "outputs": []
    },
    {
      "cell_type": "code",
      "source": [
        "train_features.shape"
      ],
      "metadata": {
        "id": "yKiDRFOk2D2T",
        "colab": {
          "base_uri": "https://localhost:8080/"
        },
        "outputId": "1827fc59-1bf4-4c52-9cf5-b2c62e2f7270"
      },
      "execution_count": null,
      "outputs": [
        {
          "output_type": "execute_result",
          "data": {
            "text/plain": [
              "torch.Size([1500, 4, 50])"
            ]
          },
          "metadata": {},
          "execution_count": 445
        }
      ]
    },
    {
      "cell_type": "code",
      "source": [
        "val_features.shape"
      ],
      "metadata": {
        "id": "1Z3Kg4Po25OG",
        "colab": {
          "base_uri": "https://localhost:8080/"
        },
        "outputId": "cfe8f051-dde9-4035-d3a8-d56d4c27a8cc"
      },
      "execution_count": null,
      "outputs": [
        {
          "output_type": "execute_result",
          "data": {
            "text/plain": [
              "torch.Size([500, 4, 50])"
            ]
          },
          "metadata": {},
          "execution_count": 446
        }
      ]
    },
    {
      "cell_type": "code",
      "source": [
        "train_labels.shape"
      ],
      "metadata": {
        "id": "oFj8S7Ut3KBI",
        "colab": {
          "base_uri": "https://localhost:8080/"
        },
        "outputId": "dfa2e404-0c89-475d-d4d7-47340023ec80"
      },
      "execution_count": null,
      "outputs": [
        {
          "output_type": "execute_result",
          "data": {
            "text/plain": [
              "torch.Size([1500, 1])"
            ]
          },
          "metadata": {},
          "execution_count": 447
        }
      ]
    },
    {
      "cell_type": "code",
      "source": [],
      "metadata": {
        "id": "RBjc_A4VEM3r"
      },
      "execution_count": null,
      "outputs": []
    },
    {
      "cell_type": "code",
      "source": [
        "val_labels.shape"
      ],
      "metadata": {
        "id": "2LSYxkin4A9d",
        "colab": {
          "base_uri": "https://localhost:8080/"
        },
        "outputId": "980875b5-9625-4e97-94a1-108627c8b49b"
      },
      "execution_count": null,
      "outputs": [
        {
          "output_type": "execute_result",
          "data": {
            "text/plain": [
              "torch.Size([500, 1])"
            ]
          },
          "metadata": {},
          "execution_count": 448
        }
      ]
    },
    {
      "cell_type": "code",
      "source": [
        "# val_features = val_features[:500,:,:]"
      ],
      "metadata": {
        "id": "LIp3sXAbEOEZ"
      },
      "execution_count": null,
      "outputs": []
    },
    {
      "cell_type": "code",
      "source": [
        "val_features.shape\n"
      ],
      "metadata": {
        "colab": {
          "base_uri": "https://localhost:8080/"
        },
        "id": "ZR7GHnRAEZrH",
        "outputId": "6d3fade5-e2ac-48ee-998e-c54b471b2791"
      },
      "execution_count": null,
      "outputs": [
        {
          "output_type": "execute_result",
          "data": {
            "text/plain": [
              "torch.Size([500, 4, 50])"
            ]
          },
          "metadata": {},
          "execution_count": 449
        }
      ]
    },
    {
      "cell_type": "markdown",
      "source": [
        "# Task 1: Design, train, and evaluate a convolutional neural network to classify the sequences\n",
        "\n",
        "In this task, you will design a convolutional neural network to predict whether or not a given DNA sequence has a transcriptor-factor binding site. This is a binary classification problem. \n",
        "\n",
        "You will  train your model on the training set and evaluate your model on the validation set. "
      ],
      "metadata": {
        "id": "2zLfmpfhY885"
      }
    },
    {
      "cell_type": "code",
      "source": [
        "#TODO: implement a CNN model\n",
        "\n",
        "class cnn(nn.Module): \n",
        "  def __init__(self):\n",
        "    super(cnn,self).__init__()\n",
        "    self.conv1 = nn.Conv1d(in_channels=4, out_channels=32, kernel_size=3, padding=1)\n",
        "    self.pool1 = nn.MaxPool1d(kernel_size=2, stride=2)\n",
        "    self.conv2 = nn.Conv1d(in_channels=32, out_channels=64, kernel_size=3, padding=1)\n",
        "    self.pool2 = nn.MaxPool1d(kernel_size=2, stride=2)\n",
        "    self.fc1 = nn.Linear(32* 12 * 2, 256)\n",
        "    self.fc2 = nn.Linear(256, 1)\n",
        "    self.dropout = nn.Dropout(p=0.5)\n",
        "    self.sigmoid = nn.Sigmoid()\n",
        "    \n",
        "  def forward(self,x):\n",
        "      x = self.conv1(x)\n",
        "      x = nn.ReLU()(x)\n",
        "      x = self.pool1(x)\n",
        "      x = self.conv2(x)\n",
        "      x = nn.ReLU()(x)\n",
        "      x = self.pool2(x)\n",
        "      x = x.view(-1, 32 * 12 * 2)\n",
        "      x = self.fc1(x)\n",
        "      x = nn.ReLU()(x)\n",
        "      x = self.dropout(x)\n",
        "      x = self.fc2(x)\n",
        "      x = self.sigmoid(x)\n",
        "      return x\n"
      ],
      "metadata": {
        "id": "Hq5BWrCo4dnT"
      },
      "execution_count": null,
      "outputs": []
    },
    {
      "cell_type": "code",
      "source": [
        "model = cnn()\n",
        "print(model)"
      ],
      "metadata": {
        "id": "29G7kpzC6m0U",
        "colab": {
          "base_uri": "https://localhost:8080/"
        },
        "outputId": "3c2eaa6f-de33-4f46-9806-bf15646b43d6"
      },
      "execution_count": null,
      "outputs": [
        {
          "output_type": "stream",
          "name": "stdout",
          "text": [
            "cnn(\n",
            "  (conv1): Conv1d(4, 32, kernel_size=(3,), stride=(1,), padding=(1,))\n",
            "  (pool1): MaxPool1d(kernel_size=2, stride=2, padding=0, dilation=1, ceil_mode=False)\n",
            "  (conv2): Conv1d(32, 64, kernel_size=(3,), stride=(1,), padding=(1,))\n",
            "  (pool2): MaxPool1d(kernel_size=2, stride=2, padding=0, dilation=1, ceil_mode=False)\n",
            "  (fc1): Linear(in_features=768, out_features=256, bias=True)\n",
            "  (fc2): Linear(in_features=256, out_features=1, bias=True)\n",
            "  (dropout): Dropout(p=0.5, inplace=False)\n",
            "  (sigmoid): Sigmoid()\n",
            ")\n"
          ]
        }
      ]
    },
    {
      "cell_type": "code",
      "source": [
        "\n",
        "#TODO: define the batch size \n",
        "batch_size = 15   # works with batch_size 1\n",
        "\n",
        "#Put the dataset into a dataloader\n",
        "train_ds = TensorDataset(train_features, train_labels)\n",
        "val_ds = TensorDataset(val_features, val_labels)\n",
        "trainLoader = DataLoader(train_ds, batch_size=batch_size, shuffle=True)\n",
        "valLoader = DataLoader(val_ds, batch_size=batch_size, shuffle=True)\n"
      ],
      "metadata": {
        "id": "wDVgsIXUbgeY"
      },
      "execution_count": null,
      "outputs": []
    },
    {
      "cell_type": "code",
      "source": [
        "\n",
        "#TODO: define the learning rate, loss function and optimizer\n",
        "loss_fn = nn.BCELoss() #you can change this too based on the final layer of your model\n",
        "learning_rate = 0.001\n",
        "optimizer = torch.optim.Adam(model.parameters(), lr=learning_rate)"
      ],
      "metadata": {
        "id": "fb5VhW-XbRrS"
      },
      "execution_count": null,
      "outputs": []
    },
    {
      "cell_type": "code",
      "source": [
        "#TODO: complete the code to train and evaluate the model\n",
        "\n",
        "def train(dataloader, model, loss_fn, optimizer):\n",
        "    size = len(dataloader.dataset)\n",
        "    num_batches = len(dataloader)\n",
        "    model.train()\n",
        "    train_loss, correct = 0, 0\n",
        "\n",
        "    for i, (X, y) in enumerate(dataloader):\n",
        "        # TODO: Compute prediction and loss\n",
        "        X, y = X.float(), y.float()\n",
        "        pred = model(X)\n",
        "        loss = loss_fn(pred, y)\n",
        "        # TODO: complete backpropagation\n",
        "        loss.backward()\n",
        "        optimizer.step()\n",
        "        optimizer.zero_grad()\n",
        "\n",
        "        correct += (torch.round(pred) == y).type(torch.float).sum().item()\n",
        "        train_loss += loss.item()\n",
        "        if i % 5 == 0:\n",
        "            loss, current = loss.item(), i * len(X)\n",
        "            print(f\"loss: {loss:>7f}  [{current:>5d}/{size:>5d}]\")\n",
        "\n",
        "    #calculate the average loss and accuracy in this epoch\n",
        "    train_loss /= num_batches\n",
        "    train_accuracy = correct / size\n",
        "    return train_loss, train_accuracy\n",
        "\n",
        "def test(dataloader, model, loss_fn):\n",
        "    size = len(dataloader.dataset)\n",
        "    num_batches = len(dataloader)\n",
        "    model.eval()\n",
        "    test_loss, correct = 0, 0\n",
        "    with torch.no_grad():\n",
        "        for X, y in dataloader:\n",
        "            X, y = X.float(), y.float()\n",
        "            pred = model(X)\n",
        "            test_loss += loss_fn(pred, y).item()\n",
        "            correct += (torch.round(pred) == y).type(torch.float).sum().item()\n",
        "    test_loss /= num_batches\n",
        "    test_accuracy = correct / size\n",
        "    print(f\"Validation: \\n Accuracy: {(100*test_accuracy):>0.1f}%, Avg loss: {test_loss:>8f} \\n\")\n",
        "    #calculate the average loss and accuracy in this epoch\n",
        "    return test_loss, test_accuracy\n",
        "\n"
      ],
      "metadata": {
        "id": "vKzhZvtb6tpj"
      },
      "execution_count": null,
      "outputs": []
    },
    {
      "cell_type": "code",
      "source": [],
      "metadata": {
        "id": "pP_xfbSfGaX-"
      },
      "execution_count": null,
      "outputs": []
    },
    {
      "cell_type": "code",
      "source": [],
      "metadata": {
        "id": "mVU1b9VQRqMo"
      },
      "execution_count": null,
      "outputs": []
    },
    {
      "cell_type": "code",
      "source": [
        "epochs = 10\n",
        "\n",
        "train_losses, train_accs, test_losses, test_accs = [], [], [], []\n",
        "\n",
        "for t in range(epochs):\n",
        "    print(f\"Epoch {t+1}\\n-------------------------------\")\n",
        "    loss, acc = train(trainLoader, model, loss_fn, optimizer)\n",
        "    train_losses.append(loss)\n",
        "    train_accs.append(acc)\n",
        "\n",
        "    loss, acc = test(valLoader, model, loss_fn)\n",
        "    test_losses.append(loss)\n",
        "    test_accs.append(acc)\n",
        "\n",
        "\n",
        "print(\"Done!\")"
      ],
      "metadata": {
        "id": "jAgSrSiu7AqB",
        "colab": {
          "base_uri": "https://localhost:8080/"
        },
        "outputId": "3c665f83-ae82-445f-ebe8-4e009e244bd7"
      },
      "execution_count": null,
      "outputs": [
        {
          "output_type": "stream",
          "name": "stdout",
          "text": [
            "Epoch 1\n",
            "-------------------------------\n",
            "loss: 0.686802  [    0/ 1500]\n",
            "loss: 0.711792  [   75/ 1500]\n",
            "loss: 0.698858  [  150/ 1500]\n",
            "loss: 0.724836  [  225/ 1500]\n",
            "loss: 0.717459  [  300/ 1500]\n",
            "loss: 0.703947  [  375/ 1500]\n",
            "loss: 0.683195  [  450/ 1500]\n",
            "loss: 0.674782  [  525/ 1500]\n",
            "loss: 0.674933  [  600/ 1500]\n",
            "loss: 0.672399  [  675/ 1500]\n",
            "loss: 0.678253  [  750/ 1500]\n",
            "loss: 0.662409  [  825/ 1500]\n",
            "loss: 0.635098  [  900/ 1500]\n",
            "loss: 0.689387  [  975/ 1500]\n",
            "loss: 0.715168  [ 1050/ 1500]\n",
            "loss: 0.780900  [ 1125/ 1500]\n",
            "loss: 0.602033  [ 1200/ 1500]\n",
            "loss: 0.632042  [ 1275/ 1500]\n",
            "loss: 0.609814  [ 1350/ 1500]\n",
            "loss: 0.609860  [ 1425/ 1500]\n",
            "Validation: \n",
            " Accuracy: 86.0%, Avg loss: 0.591136 \n",
            "\n",
            "Epoch 2\n",
            "-------------------------------\n",
            "loss: 0.594330  [    0/ 1500]\n",
            "loss: 0.538005  [   75/ 1500]\n",
            "loss: 0.658542  [  150/ 1500]\n",
            "loss: 0.670635  [  225/ 1500]\n",
            "loss: 0.411990  [  300/ 1500]\n",
            "loss: 0.357009  [  375/ 1500]\n",
            "loss: 0.348744  [  450/ 1500]\n",
            "loss: 0.299668  [  525/ 1500]\n",
            "loss: 0.268955  [  600/ 1500]\n",
            "loss: 0.375567  [  675/ 1500]\n",
            "loss: 0.286187  [  750/ 1500]\n",
            "loss: 0.258380  [  825/ 1500]\n",
            "loss: 0.154675  [  900/ 1500]\n",
            "loss: 0.170903  [  975/ 1500]\n",
            "loss: 0.141043  [ 1050/ 1500]\n",
            "loss: 0.118716  [ 1125/ 1500]\n",
            "loss: 0.106256  [ 1200/ 1500]\n",
            "loss: 0.104474  [ 1275/ 1500]\n",
            "loss: 0.112927  [ 1350/ 1500]\n",
            "loss: 0.055213  [ 1425/ 1500]\n",
            "Validation: \n",
            " Accuracy: 99.0%, Avg loss: 0.091260 \n",
            "\n",
            "Epoch 3\n",
            "-------------------------------\n",
            "loss: 0.393546  [    0/ 1500]\n",
            "loss: 0.054556  [   75/ 1500]\n",
            "loss: 0.077342  [  150/ 1500]\n",
            "loss: 0.084418  [  225/ 1500]\n",
            "loss: 0.178085  [  300/ 1500]\n",
            "loss: 0.045803  [  375/ 1500]\n",
            "loss: 0.055562  [  450/ 1500]\n",
            "loss: 0.073994  [  525/ 1500]\n",
            "loss: 0.018831  [  600/ 1500]\n",
            "loss: 0.136178  [  675/ 1500]\n",
            "loss: 0.036112  [  750/ 1500]\n",
            "loss: 0.029092  [  825/ 1500]\n",
            "loss: 0.057486  [  900/ 1500]\n",
            "loss: 0.023111  [  975/ 1500]\n",
            "loss: 0.054816  [ 1050/ 1500]\n",
            "loss: 0.016302  [ 1125/ 1500]\n",
            "loss: 0.033241  [ 1200/ 1500]\n",
            "loss: 0.034500  [ 1275/ 1500]\n",
            "loss: 0.020064  [ 1350/ 1500]\n",
            "loss: 0.007142  [ 1425/ 1500]\n",
            "Validation: \n",
            " Accuracy: 99.8%, Avg loss: 0.031602 \n",
            "\n",
            "Epoch 4\n",
            "-------------------------------\n",
            "loss: 0.011027  [    0/ 1500]\n",
            "loss: 0.006077  [   75/ 1500]\n",
            "loss: 0.012995  [  150/ 1500]\n",
            "loss: 0.006876  [  225/ 1500]\n",
            "loss: 0.020532  [  300/ 1500]\n",
            "loss: 0.037247  [  375/ 1500]\n",
            "loss: 0.011854  [  450/ 1500]\n",
            "loss: 0.010623  [  525/ 1500]\n",
            "loss: 0.006337  [  600/ 1500]\n",
            "loss: 0.004958  [  675/ 1500]\n",
            "loss: 0.016763  [  750/ 1500]\n",
            "loss: 0.006063  [  825/ 1500]\n",
            "loss: 0.016553  [  900/ 1500]\n",
            "loss: 0.019013  [  975/ 1500]\n",
            "loss: 0.006778  [ 1050/ 1500]\n",
            "loss: 0.001703  [ 1125/ 1500]\n",
            "loss: 0.261221  [ 1200/ 1500]\n",
            "loss: 0.071209  [ 1275/ 1500]\n",
            "loss: 0.003676  [ 1350/ 1500]\n",
            "loss: 0.081779  [ 1425/ 1500]\n",
            "Validation: \n",
            " Accuracy: 99.8%, Avg loss: 0.014843 \n",
            "\n",
            "Epoch 5\n",
            "-------------------------------\n",
            "loss: 0.003686  [    0/ 1500]\n",
            "loss: 0.012955  [   75/ 1500]\n",
            "loss: 0.009296  [  150/ 1500]\n",
            "loss: 0.004013  [  225/ 1500]\n",
            "loss: 0.003783  [  300/ 1500]\n",
            "loss: 0.004759  [  375/ 1500]\n",
            "loss: 0.002803  [  450/ 1500]\n",
            "loss: 0.001395  [  525/ 1500]\n",
            "loss: 0.003699  [  600/ 1500]\n",
            "loss: 0.001991  [  675/ 1500]\n",
            "loss: 0.005328  [  750/ 1500]\n",
            "loss: 0.002205  [  825/ 1500]\n",
            "loss: 0.001557  [  900/ 1500]\n",
            "loss: 0.003454  [  975/ 1500]\n",
            "loss: 0.002060  [ 1050/ 1500]\n",
            "loss: 0.007542  [ 1125/ 1500]\n",
            "loss: 0.001723  [ 1200/ 1500]\n",
            "loss: 0.004179  [ 1275/ 1500]\n",
            "loss: 0.002106  [ 1350/ 1500]\n",
            "loss: 0.001263  [ 1425/ 1500]\n",
            "Validation: \n",
            " Accuracy: 99.8%, Avg loss: 0.008928 \n",
            "\n",
            "Epoch 6\n",
            "-------------------------------\n",
            "loss: 0.004854  [    0/ 1500]\n",
            "loss: 0.005934  [   75/ 1500]\n",
            "loss: 0.001542  [  150/ 1500]\n",
            "loss: 0.002989  [  225/ 1500]\n",
            "loss: 0.000883  [  300/ 1500]\n",
            "loss: 0.003767  [  375/ 1500]\n",
            "loss: 0.004555  [  450/ 1500]\n",
            "loss: 0.000769  [  525/ 1500]\n",
            "loss: 0.001214  [  600/ 1500]\n",
            "loss: 0.002654  [  675/ 1500]\n",
            "loss: 0.005622  [  750/ 1500]\n",
            "loss: 0.001970  [  825/ 1500]\n",
            "loss: 0.008699  [  900/ 1500]\n",
            "loss: 0.001762  [  975/ 1500]\n",
            "loss: 0.011402  [ 1050/ 1500]\n",
            "loss: 0.000874  [ 1125/ 1500]\n",
            "loss: 0.002672  [ 1200/ 1500]\n",
            "loss: 0.001226  [ 1275/ 1500]\n",
            "loss: 0.000462  [ 1350/ 1500]\n",
            "loss: 0.002326  [ 1425/ 1500]\n",
            "Validation: \n",
            " Accuracy: 99.8%, Avg loss: 0.008562 \n",
            "\n",
            "Epoch 7\n",
            "-------------------------------\n",
            "loss: 0.000993  [    0/ 1500]\n",
            "loss: 0.001891  [   75/ 1500]\n",
            "loss: 0.003440  [  150/ 1500]\n",
            "loss: 0.000973  [  225/ 1500]\n",
            "loss: 0.002294  [  300/ 1500]\n",
            "loss: 0.001045  [  375/ 1500]\n",
            "loss: 0.005193  [  450/ 1500]\n",
            "loss: 0.000547  [  525/ 1500]\n",
            "loss: 0.000673  [  600/ 1500]\n",
            "loss: 0.001551  [  675/ 1500]\n",
            "loss: 0.000645  [  750/ 1500]\n",
            "loss: 0.000791  [  825/ 1500]\n",
            "loss: 0.004200  [  900/ 1500]\n",
            "loss: 0.001689  [  975/ 1500]\n",
            "loss: 0.006940  [ 1050/ 1500]\n",
            "loss: 0.001628  [ 1125/ 1500]\n",
            "loss: 0.001452  [ 1200/ 1500]\n",
            "loss: 0.003198  [ 1275/ 1500]\n",
            "loss: 0.000797  [ 1350/ 1500]\n",
            "loss: 0.000444  [ 1425/ 1500]\n",
            "Validation: \n",
            " Accuracy: 99.8%, Avg loss: 0.008105 \n",
            "\n",
            "Epoch 8\n",
            "-------------------------------\n",
            "loss: 0.001339  [    0/ 1500]\n",
            "loss: 0.002505  [   75/ 1500]\n",
            "loss: 0.002103  [  150/ 1500]\n",
            "loss: 0.001321  [  225/ 1500]\n",
            "loss: 0.000546  [  300/ 1500]\n",
            "loss: 0.001391  [  375/ 1500]\n",
            "loss: 0.000582  [  450/ 1500]\n",
            "loss: 0.002467  [  525/ 1500]\n",
            "loss: 0.000412  [  600/ 1500]\n",
            "loss: 0.000839  [  675/ 1500]\n",
            "loss: 0.000355  [  750/ 1500]\n",
            "loss: 0.000214  [  825/ 1500]\n",
            "loss: 0.000457  [  900/ 1500]\n",
            "loss: 0.001761  [  975/ 1500]\n",
            "loss: 0.000670  [ 1050/ 1500]\n",
            "loss: 0.000636  [ 1125/ 1500]\n",
            "loss: 0.000380  [ 1200/ 1500]\n",
            "loss: 0.001040  [ 1275/ 1500]\n",
            "loss: 0.001089  [ 1350/ 1500]\n",
            "loss: 0.000358  [ 1425/ 1500]\n",
            "Validation: \n",
            " Accuracy: 99.8%, Avg loss: 0.008558 \n",
            "\n",
            "Epoch 9\n",
            "-------------------------------\n",
            "loss: 0.002523  [    0/ 1500]\n",
            "loss: 0.000984  [   75/ 1500]\n",
            "loss: 0.005130  [  150/ 1500]\n",
            "loss: 0.001192  [  225/ 1500]\n",
            "loss: 0.001190  [  300/ 1500]\n",
            "loss: 0.000610  [  375/ 1500]\n",
            "loss: 0.000293  [  450/ 1500]\n",
            "loss: 0.000588  [  525/ 1500]\n",
            "loss: 0.002115  [  600/ 1500]\n",
            "loss: 0.001064  [  675/ 1500]\n",
            "loss: 0.000756  [  750/ 1500]\n",
            "loss: 0.000349  [  825/ 1500]\n",
            "loss: 0.000227  [  900/ 1500]\n",
            "loss: 0.001777  [  975/ 1500]\n",
            "loss: 0.001063  [ 1050/ 1500]\n",
            "loss: 0.000481  [ 1125/ 1500]\n",
            "loss: 0.000126  [ 1200/ 1500]\n",
            "loss: 0.000700  [ 1275/ 1500]\n",
            "loss: 0.000223  [ 1350/ 1500]\n",
            "loss: 0.000481  [ 1425/ 1500]\n",
            "Validation: \n",
            " Accuracy: 99.8%, Avg loss: 0.006700 \n",
            "\n",
            "Epoch 10\n",
            "-------------------------------\n",
            "loss: 0.000370  [    0/ 1500]\n",
            "loss: 0.001352  [   75/ 1500]\n",
            "loss: 0.000237  [  150/ 1500]\n",
            "loss: 0.000266  [  225/ 1500]\n",
            "loss: 0.000273  [  300/ 1500]\n",
            "loss: 0.000920  [  375/ 1500]\n",
            "loss: 0.000142  [  450/ 1500]\n",
            "loss: 0.000108  [  525/ 1500]\n",
            "loss: 0.000901  [  600/ 1500]\n",
            "loss: 0.006132  [  675/ 1500]\n",
            "loss: 0.000525  [  750/ 1500]\n",
            "loss: 0.000211  [  825/ 1500]\n",
            "loss: 0.000802  [  900/ 1500]\n",
            "loss: 0.000424  [  975/ 1500]\n",
            "loss: 0.000607  [ 1050/ 1500]\n",
            "loss: 0.000931  [ 1125/ 1500]\n",
            "loss: 0.000538  [ 1200/ 1500]\n",
            "loss: 0.000229  [ 1275/ 1500]\n",
            "loss: 0.002012  [ 1350/ 1500]\n",
            "loss: 0.000776  [ 1425/ 1500]\n",
            "Validation: \n",
            " Accuracy: 99.8%, Avg loss: 0.008675 \n",
            "\n",
            "Done!\n"
          ]
        }
      ]
    },
    {
      "cell_type": "code",
      "source": [
        "#plot loss\n",
        "plt.figure()\n",
        "plt.plot(train_losses)\n",
        "plt.plot(test_losses)\n",
        "plt.title('loss curve')\n",
        "plt.ylabel('loss')\n",
        "plt.xlabel('epoch')\n",
        "plt.legend(['train', 'validation'])\n",
        "plt.show()"
      ],
      "metadata": {
        "id": "WqTZ7I2M6kJZ",
        "colab": {
          "base_uri": "https://localhost:8080/",
          "height": 472
        },
        "outputId": "76433e6c-1aa5-4c79-d798-2d0ceab25180"
      },
      "execution_count": null,
      "outputs": [
        {
          "output_type": "display_data",
          "data": {
            "text/plain": [
              "<Figure size 640x480 with 1 Axes>"
            ],
            "image/png": "[encoded data removed]"
          },
          "metadata": {}
        }
      ]
    },
    {
      "cell_type": "code",
      "source": [
        "#plot accuracy\n",
        "\n",
        "plt.figure()\n",
        "plt.plot(train_accs)\n",
        "plt.plot(test_accs)\n",
        "plt.title('accuracy curve')\n",
        "plt.ylabel('accuracy')\n",
        "plt.xlabel('epoch')\n",
        "plt.legend(['train', 'validation'])\n",
        "plt.show()"
      ],
      "metadata": {
        "id": "aWpJabqb7tt5",
        "colab": {
          "base_uri": "https://localhost:8080/",
          "height": 472
        },
        "outputId": "075ae514-1a11-4439-a2b3-19cf48de4434"
      },
      "execution_count": null,
      "outputs": [
        {
          "output_type": "display_data",
          "data": {
            "text/plain": [
              "<Figure size 640x480 with 1 Axes>"
            ],
            "image/png": "[encoded data removed]"
          },
          "metadata": {}
        }
      ]
    },
    {
      "cell_type": "code",
      "source": [
        "\n",
        "print(val_features.shape)\n",
        "print(torch.round(val_features.float()).shape)\n",
        "print(val_labels.float().shape)"
      ],
      "metadata": {
        "colab": {
          "base_uri": "https://localhost:8080/"
        },
        "id": "k3uHT-3FM0xq",
        "outputId": "6eacf831-156b-4f6f-d761-d3afe6f0a2a2"
      },
      "execution_count": null,
      "outputs": [
        {
          "output_type": "stream",
          "name": "stdout",
          "text": [
            "torch.Size([500, 4, 50])\n",
            "torch.Size([500, 4, 50])\n",
            "torch.Size([500, 1])\n"
          ]
        }
      ]
    },
    {
      "cell_type": "code",
      "source": [
        "\n",
        "#visualization of confusion matrix\n",
        "\n",
        "model.eval()\n",
        "#val_features[:1, :, :]\n",
        "predicted_labels = torch.round(model(val_features.float())).detach().numpy() #you can change this based on the final layer of your model\n",
        "true_labels = val_labels\n",
        "cm = confusion_matrix(true_labels, predicted_labels)\n",
        "print('Confusion matrix:\\n',cm)\n",
        "\n",
        "\n",
        "disp = ConfusionMatrixDisplay(confusion_matrix=cm)\n",
        "disp.plot()\n",
        "\n",
        "plt.show()"
      ],
      "metadata": {
        "id": "O0Mp2L_U71Xl",
        "colab": {
          "base_uri": "https://localhost:8080/",
          "height": 501
        },
        "outputId": "59fa4522-ee51-4884-899c-ab9f57a348d8"
      },
      "execution_count": null,
      "outputs": [
        {
          "output_type": "stream",
          "name": "stdout",
          "text": [
            "Confusion matrix:\n",
            " [[255   1]\n",
            " [  0 244]]\n"
          ]
        },
        {
          "output_type": "display_data",
          "data": {
            "text/plain": [
              "<Figure size 640x480 with 2 Axes>"
            ],
            "image/png": "[encoded data removed]"
          },
          "metadata": {}
        }
      ]
    },
    {
      "cell_type": "markdown",
      "source": [
        "# Task 2: Model Interpretation\n",
        "\n",
        "Now, after we have trained the model, we are curious about what motif the model identifies. We will use `captum`, a library for model interpretation to understand the importance of each DNA base on the predictions. \n",
        "\n",
        "`captum` is not pre-installed on google colab, so you will need to first install it with the following command. If you are running on your local computer, you can also install it with other environment management systems you like."
      ],
      "metadata": {
        "id": "hldUn3u0Pr0a"
      }
    },
    {
      "cell_type": "markdown",
      "source": [
        "##### <font color='Red'> Execute the code below and answer the question below in this cell.</font>\n",
        "\n",
        "Question: Assuming we know that our motif has a length of 11. Can you guess what the motif is? \n",
        "\n",
        "Answer: <TODO:  GTCCCGTAC\n"
      ],
      "metadata": {
        "id": "tL1bipbPOl43"
      }
    },
    {
      "cell_type": "code",
      "source": [
        "!pip install captum"
      ],
      "metadata": {
        "id": "ceJNzRmU52iG",
        "colab": {
          "base_uri": "https://localhost:8080/"
        },
        "outputId": "95960edb-4a7e-4fe2-c71d-96ef1e73e252"
      },
      "execution_count": null,
      "outputs": [
        {
          "output_type": "stream",
          "name": "stdout",
          "text": [
            "Looking in indexes: https://pypi.org/simple, https://us-python.pkg.dev/colab-wheels/public/simple/\n",
            "Collecting captum\n",
            "  Downloading captum-0.6.0-py3-none-any.whl (1.3 MB)\n",
            "\u001b[2K     \u001b[90m━━━━━━━━━━━━━━━━━━━━━━━━━━━━━━━━━━━━━━━━\u001b[0m \u001b[32m1.3/1.3 MB\u001b[0m \u001b[31m18.1 MB/s\u001b[0m eta \u001b[36m0:00:00\u001b[0m\n",
            "\u001b[?25hRequirement already satisfied: numpy in /usr/local/lib/python3.9/dist-packages (from captum) (1.22.4)\n",
            "Requirement already satisfied: torch>=1.6 in /usr/local/lib/python3.9/dist-packages (from captum) (2.0.0+cu118)\n",
            "Requirement already satisfied: matplotlib in /usr/local/lib/python3.9/dist-packages (from captum) (3.7.1)\n",
            "Requirement already satisfied: filelock in /usr/local/lib/python3.9/dist-packages (from torch>=1.6->captum) (3.11.0)\n",
            "Requirement already satisfied: typing-extensions in /usr/local/lib/python3.9/dist-packages (from torch>=1.6->captum) (4.5.0)\n",
            "Requirement already satisfied: networkx in /usr/local/lib/python3.9/dist-packages (from torch>=1.6->captum) (3.1)\n",
            "Requirement already satisfied: jinja2 in /usr/local/lib/python3.9/dist-packages (from torch>=1.6->captum) (3.1.2)\n",
            "Requirement already satisfied: sympy in /usr/local/lib/python3.9/dist-packages (from torch>=1.6->captum) (1.11.1)\n",
            "Requirement already satisfied: triton==2.0.0 in /usr/local/lib/python3.9/dist-packages (from torch>=1.6->captum) (2.0.0)\n",
            "Requirement already satisfied: cmake in /usr/local/lib/python3.9/dist-packages (from triton==2.0.0->torch>=1.6->captum) (3.25.2)\n",
            "Requirement already satisfied: lit in /usr/local/lib/python3.9/dist-packages (from triton==2.0.0->torch>=1.6->captum) (16.0.1)\n",
            "Requirement already satisfied: pyparsing>=2.3.1 in /usr/local/lib/python3.9/dist-packages (from matplotlib->captum) (3.0.9)\n",
            "Requirement already satisfied: python-dateutil>=2.7 in /usr/local/lib/python3.9/dist-packages (from matplotlib->captum) (2.8.2)\n",
            "Requirement already satisfied: packaging>=20.0 in /usr/local/lib/python3.9/dist-packages (from matplotlib->captum) (23.0)\n",
            "Requirement already satisfied: fonttools>=4.22.0 in /usr/local/lib/python3.9/dist-packages (from matplotlib->captum) (4.39.3)\n",
            "Requirement already satisfied: contourpy>=1.0.1 in /usr/local/lib/python3.9/dist-packages (from matplotlib->captum) (1.0.7)\n",
            "Requirement already satisfied: kiwisolver>=1.0.1 in /usr/local/lib/python3.9/dist-packages (from matplotlib->captum) (1.4.4)\n",
            "Requirement already satisfied: importlib-resources>=3.2.0 in /usr/local/lib/python3.9/dist-packages (from matplotlib->captum) (5.12.0)\n",
            "Requirement already satisfied: pillow>=6.2.0 in /usr/local/lib/python3.9/dist-packages (from matplotlib->captum) (8.4.0)\n",
            "Requirement already satisfied: cycler>=0.10 in /usr/local/lib/python3.9/dist-packages (from matplotlib->captum) (0.11.0)\n",
            "Requirement already satisfied: zipp>=3.1.0 in /usr/local/lib/python3.9/dist-packages (from importlib-resources>=3.2.0->matplotlib->captum) (3.15.0)\n",
            "Requirement already satisfied: six>=1.5 in /usr/local/lib/python3.9/dist-packages (from python-dateutil>=2.7->matplotlib->captum) (1.16.0)\n",
            "Requirement already satisfied: MarkupSafe>=2.0 in /usr/local/lib/python3.9/dist-packages (from jinja2->torch>=1.6->captum) (2.1.2)\n",
            "Requirement already satisfied: mpmath>=0.19 in /usr/local/lib/python3.9/dist-packages (from sympy->torch>=1.6->captum) (1.3.0)\n",
            "Installing collected packages: captum\n",
            "Successfully installed captum-0.6.0\n"
          ]
        }
      ]
    },
    {
      "cell_type": "code",
      "source": [
        "from captum.attr import IntegratedGradients\n"
      ],
      "metadata": {
        "id": "XasLEfame4rL"
      },
      "execution_count": null,
      "outputs": []
    },
    {
      "cell_type": "markdown",
      "source": [
        "Let's take a postive sample in the DNA sequences to understand how our model predicts its labels."
      ],
      "metadata": {
        "id": "uHp4fRhifBz5"
      }
    },
    {
      "cell_type": "code",
      "source": [
        "sample_seq = seqs[1]\n",
        "sample_label = labels[1]\n",
        "print(f'our example sequence is: {sample_seq.item(0)}, the label is: {sample_label}')"
      ],
      "metadata": {
        "id": "3JawMY_Je-od",
        "colab": {
          "base_uri": "https://localhost:8080/"
        },
        "outputId": "fa0b6348-e9b1-4bce-9436-87f3753ae245"
      },
      "execution_count": null,
      "outputs": [
        {
          "output_type": "stream",
          "name": "stdout",
          "text": [
            "our example sequence is: CGCTACAGTCCCGTACTTAACTCTTTGATCTCGTATTCAAAAACGATTGC, the label is: [1]\n"
          ]
        }
      ]
    },
    {
      "cell_type": "code",
      "source": [
        "#transform the sequence data into one-hot encoding tensor\n",
        "sample_features = OneHotEncoding(list([sample_seq]))\n",
        "sample_features = torch.tensor(sample_features).float()\n",
        "print(sample_features.shape)"
      ],
      "metadata": {
        "id": "0cjEtxZOgLxG",
        "colab": {
          "base_uri": "https://localhost:8080/"
        },
        "outputId": "365aead1-9abc-428f-deef-4291959029ab"
      },
      "execution_count": null,
      "outputs": [
        {
          "output_type": "stream",
          "name": "stdout",
          "text": [
            "torch.Size([1, 4, 50])\n"
          ]
        }
      ]
    },
    {
      "cell_type": "markdown",
      "source": [
        "***Integrated Gradients*** from the Captum library assigns an importance score to each input feature by approximating the integral of the gradients of the model’s output with respect to the inputs.\n",
        "See: https://pytorch.org/tutorials/beginner/introyt/captumyt.html for more information\n"
      ],
      "metadata": {
        "id": "myoeUP7ILyE5"
      }
    },
    {
      "cell_type": "code",
      "source": [
        "#Calculate the importance scores for the model\n",
        "model.eval()\n",
        "integrated_gradients = IntegratedGradients(model)\n",
        "ig = integrated_gradients.attribute(sample_features)\n",
        "ig = torch.mean(ig, dim=1)"
      ],
      "metadata": {
        "id": "_-Hg2XcVg-Ep"
      },
      "execution_count": null,
      "outputs": []
    },
    {
      "cell_type": "code",
      "source": [
        "#plot the importance scores\n",
        "plt.figure(figsize=[16,5])\n",
        "\n",
        "bases = seqs[1][0]\n",
        "igs = ig.flatten().tolist()\n",
        "\n",
        "\n",
        "plt.bar(range(len(bases)), igs)\n",
        "plt.xticks(range(len(bases)), bases)\n",
        "\n",
        "plt.xlabel('Bases')\n",
        "plt.ylabel('Importance Scores')\n",
        "\n",
        "plt.title('Importance Scores for bases in one of the positive sequences')"
      ],
      "metadata": {
        "id": "iLGGqdKRg6Hi",
        "colab": {
          "base_uri": "https://localhost:8080/",
          "height": 334
        },
        "outputId": "9f3ce746-3d26-4216-8e1a-da111a248514"
      },
      "execution_count": null,
      "outputs": [
        {
          "output_type": "execute_result",
          "data": {
            "text/plain": [
              "Text(0.5, 1.0, 'Importance Scores for bases in one of the positive sequences')"
            ]
          },
          "metadata": {},
          "execution_count": 477
        },
        {
          "output_type": "display_data",
          "data": {
            "text/plain": [
              "<Figure size 1600x500 with 1 Axes>"
            ],
            "image/png": "[encoded data removed]"
          },
          "metadata": {}
        }
      ]
    },
    {
      "cell_type": "markdown",
      "source": [
        "## Submission\n",
        "\n",
        "For this problem, you will need to save the notebook with the outputs and answer (for Task2) and upload it onto gradescope.\n",
        "\n",
        "Don't forget to write you answer for Task 2 in the notebook cell!"
      ],
      "metadata": {
        "id": "zZzXtN-ZZDiU"
      }
    },
    {
      "cell_type": "code",
      "source": [
        "pip install Bio"
      ],
      "metadata": {
        "colab": {
          "base_uri": "https://localhost:8080/"
        },
        "id": "_wjCQVQ1LBHr",
        "outputId": "25a192bd-cee5-42c1-8459-d7f93b9a74d7"
      },
      "execution_count": null,
      "outputs": [
        {
          "output_type": "stream",
          "name": "stdout",
          "text": [
            "Looking in indexes: https://pypi.org/simple, https://us-python.pkg.dev/colab-wheels/public/simple/\n",
            "Collecting Bio\n",
            "  Downloading bio-1.5.9-py3-none-any.whl (276 kB)\n",
            "\u001b[2K     \u001b[90m━━━━━━━━━━━━━━━━━━━━━━━━━━━━━━━━━━━━━━━\u001b[0m \u001b[32m276.4/276.4 kB\u001b[0m \u001b[31m5.3 MB/s\u001b[0m eta \u001b[36m0:00:00\u001b[0m\n",
            "\u001b[?25hRequirement already satisfied: tqdm in /usr/local/lib/python3.9/dist-packages (from Bio) (4.65.0)\n",
            "Requirement already satisfied: requests in /usr/local/lib/python3.9/dist-packages (from Bio) (2.27.1)\n",
            "Requirement already satisfied: pooch in /usr/local/lib/python3.9/dist-packages (from Bio) (1.6.0)\n",
            "Collecting biopython>=1.80\n",
            "  Downloading biopython-1.81-cp39-cp39-manylinux_2_17_x86_64.manylinux2014_x86_64.whl (3.1 MB)\n",
            "\u001b[2K     \u001b[90m━━━━━━━━━━━━━━━━━━━━━━━━━━━━━━━━━━━━━━━━\u001b[0m \u001b[32m3.1/3.1 MB\u001b[0m \u001b[31m40.3 MB/s\u001b[0m eta \u001b[36m0:00:00\u001b[0m\n",
            "\u001b[?25hCollecting gprofiler-official\n",
            "  Downloading gprofiler_official-1.0.0-py3-none-any.whl (9.3 kB)\n",
            "Requirement already satisfied: pandas in /usr/local/lib/python3.9/dist-packages (from Bio) (1.5.3)\n",
            "Collecting mygene\n",
            "  Downloading mygene-3.2.2-py2.py3-none-any.whl (5.4 kB)\n",
            "Requirement already satisfied: numpy in /usr/local/lib/python3.9/dist-packages (from biopython>=1.80->Bio) (1.22.4)\n",
            "Collecting biothings-client>=0.2.6\n",
            "  Downloading biothings_client-0.3.0-py2.py3-none-any.whl (29 kB)\n",
            "Requirement already satisfied: python-dateutil>=2.8.1 in /usr/local/lib/python3.9/dist-packages (from pandas->Bio) (2.8.2)\n",
            "Requirement already satisfied: pytz>=2020.1 in /usr/local/lib/python3.9/dist-packages (from pandas->Bio) (2022.7.1)\n",
            "Requirement already satisfied: appdirs>=1.3.0 in /usr/local/lib/python3.9/dist-packages (from pooch->Bio) (1.4.4)\n",
            "Requirement already satisfied: packaging>=20.0 in /usr/local/lib/python3.9/dist-packages (from pooch->Bio) (23.0)\n",
            "Requirement already satisfied: certifi>=2017.4.17 in /usr/local/lib/python3.9/dist-packages (from requests->Bio) (2022.12.7)\n",
            "Requirement already satisfied: idna<4,>=2.5 in /usr/local/lib/python3.9/dist-packages (from requests->Bio) (3.4)\n",
            "Requirement already satisfied: urllib3<1.27,>=1.21.1 in /usr/local/lib/python3.9/dist-packages (from requests->Bio) (1.26.15)\n",
            "Requirement already satisfied: charset-normalizer~=2.0.0 in /usr/local/lib/python3.9/dist-packages (from requests->Bio) (2.0.12)\n",
            "Requirement already satisfied: six>=1.5 in /usr/local/lib/python3.9/dist-packages (from python-dateutil>=2.8.1->pandas->Bio) (1.16.0)\n",
            "Installing collected packages: biopython, gprofiler-official, biothings-client, mygene, Bio\n",
            "Successfully installed Bio-1.5.9 biopython-1.81 biothings-client-0.3.0 gprofiler-official-1.0.0 mygene-3.2.2\n"
          ]
        }
      ]
    },
    {
      "cell_type": "code",
      "source": [
        "import Bio\n",
        "from Bio.Seq import Seq\n",
        "from Bio import motifs"
      ],
      "metadata": {
        "id": "2uwfJOUsZR14"
      },
      "execution_count": null,
      "outputs": []
    },
    {
      "cell_type": "code",
      "source": [
        "instances = [Seq(\"GTCCCGTACGT\")]\n",
        "m = motifs.create(instances)\n",
        "print(len(m))"
      ],
      "metadata": {
        "colab": {
          "base_uri": "https://localhost:8080/"
        },
        "id": "5Rk5uIlRKvBt",
        "outputId": "891ccc88-fb5a-442f-93c4-0e5fca947250"
      },
      "execution_count": null,
      "outputs": [
        {
          "output_type": "stream",
          "name": "stdout",
          "text": [
            "11\n"
          ]
        }
      ]
    },
    {
      "cell_type": "code",
      "source": [
        "print(m)"
      ],
      "metadata": {
        "colab": {
          "base_uri": "https://localhost:8080/"
        },
        "id": "SdqfU-UtLENh",
        "outputId": "6b45703d-7a3e-4f21-8182-03476431110a"
      },
      "execution_count": null,
      "outputs": [
        {
          "output_type": "stream",
          "name": "stdout",
          "text": [
            "GTCCCGTACGT\n",
            "\n"
          ]
        }
      ]
    },
    {
      "cell_type": "code",
      "source": [],
      "metadata": {
        "id": "qs7RLr3oLWj6"
      },
      "execution_count": null,
      "outputs": []
    }
  ]
}