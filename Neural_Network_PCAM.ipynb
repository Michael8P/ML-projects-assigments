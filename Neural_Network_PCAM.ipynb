{
  "cells": [
    {
      "cell_type": "markdown",
      "metadata": {
        "id": "slTL-QG0YXCo"
      },
      "source": [
        "# Homework2 Neural Network Classification"
      ]
    },
    {
      "cell_type": "markdown",
      "metadata": {
        "id": "_3YRmCuvYXCp"
      },
      "source": [
        "Welcome to this assignment on implementing Neural Networks (NN) using PyTorch! In this notebook, we will be exploring the implementation of Multilayer Perceptron (MLP) and Convolutional Neural Network (CNN) for classification tasks. MLP and CNN are fundamental neural network architectures that have been extensively used in various fields such as computer vision, natural language processing, and many others. The primary objective of this assignment is to gain a practical understanding of implementing and training NNs using PyTorch, a popular open-source machine learning library. By the end of this assignment, you will have a good grasp of the essential concepts and practical aspects of MLP/CNN and PyTorch, which can be further applied to a variety of machine learning tasks. So, let's get started and dive into the world of NN and PyTorch!"
      ]
    },
    {
      "cell_type": "markdown",
      "metadata": {
        "id": "ZukGjsNqYXCq"
      },
      "source": [
        "## Environment\n",
        "To running this code, you have to prepare a python environment. We recommend python version >= 3.7. You will need to install `torch`, `numpy` and `jupyter` packages. And in order to run the tests locally, you also need to install `matplotlib`."
      ]
    },
    {
      "cell_type": "code",
      "execution_count": null,
      "metadata": {
        "id": "nA0S3CAnYXCq"
      },
      "outputs": [],
      "source": [
        "import torch\n",
        "from torch.utils.data import DataLoader\n",
        "from torchvision import datasets\n",
        "from torchvision.transforms import ToTensor\n",
        "import torchvision.transforms as transforms\n",
        "import numpy as np\n",
        "import math"
      ]
    },
    {
      "cell_type": "markdown",
      "metadata": {
        "id": "PXgsKtyqYXCr"
      },
      "source": [
        "## Basics\n",
        "\n",
        "In this part, we will be focusing on the classification task using the PCAM(PatchCamelyon) dataset. PCAM containing images of 3x96x96 pixels (3 channels). The PCAM dataset is a widely-used histopathology image dataset that contains a large number of high-resolution images of lymph node sections. In this dataset, each image is labelled with a binary classification label indicating the presence or absence of metastatic tissue. \n",
        "\n",
        "In this section, you will learn how to preprocess the dataset, implement and train an MLP model using PyTorch, and evaluate the model's performance on a validation set. By the end of this section, you will have a good understanding of how to implement and train an MLP model for a classification task, and be able to apply this knowledge to other classification problems in your future work. So, let's dive into the world of fashion and machine learning!\n",
        "\n",
        "We will start by introducing the implementation of MLP without using the `torch.nn.module` class. This approach will help you to understand the basic mechanics of implementing an MLP from scratch and to gain a deeper understanding of the concepts involved. We will then move on to introduce the usage of the `torch.nn.module`, which provides a more convenient and efficient way to build neural networks using PyTorch. By the end of this section, you will have a clear understanding of both approaches to building an MLP in PyTorch, and be able to use these techniques to create more complex neural networks for a variety of machine learning tasks. So, let's dive in and start building our first MLP!"
      ]
    },
    {
      "cell_type": "code",
      "source": [],
      "metadata": {
        "id": "cnFn2wTiJKHB"
      },
      "execution_count": null,
      "outputs": []
    },
    {
      "cell_type": "markdown",
      "metadata": {
        "id": "4xPuIaFdYXCr"
      },
      "source": [
        "### Load Data\n",
        "First, let's load the PCAM data. You will a subset of the original dataset to train and test locally (because the whole dataset is quite large) and evaluate your model on the test set in gradescope online."
      ]
    },
    {
      "cell_type": "markdown",
      "source": [],
      "metadata": {
        "id": "G6BNDy-xZLx7"
      }
    },
    {
      "cell_type": "code",
      "execution_count": null,
      "metadata": {
        "id": "GZyzOfc_YXCr",
        "colab": {
          "base_uri": "https://localhost:8080/",
          "height": 255,
          "referenced_widgets": [
            "3d9712637eba4ee198bc10db60940eb3",
            "9a06e7ca22d649699d52a103a37f6bb5",
            "df1b4737521f4a9f90f78a9af95e44e7",
            "432d59bfdc3e40a6bad913340d97f932",
            "01d92dc96d084f19a32323e441dca877",
            "eb40268b8f7c40f79de7ee13a44e55ca",
            "bf5a3070e9514f36992752571a86f0d2",
            "4a95529915b6455aa017fdf970626b10",
            "9d04b2e2e3af4b08b808790f5974c02d",
            "746102b63d8f41fcb5cdd7ee9c3ef791",
            "6410da94e3aa496a9f1877a53003e51b",
            "9b94bbf957fb497c93fdddac78a934ff",
            "b78f97a1c5cd49619f1c70ff79a60d07",
            "864a3cd2ec3f4a73944af7b48aa004fb",
            "c7e3bf4f5b9241328c830838f78d34b5",
            "5a69e97e025245e3a09c752347411554",
            "e481ed77ffb441b7b7993f73573c1d64",
            "4ad0259d0eb34657a9b2a608456a65c0",
            "84c777e678814da9ab04317da2c4990e",
            "46cb9af4a5564866ac107cc0b2352c08",
            "aea1389d6fd643329cfba9b10dcba89b",
            "09e68ab83c3349229c5b613097fa5596"
          ]
        },
        "outputId": "06bbd5e9-ea1e-462f-aa5c-51c5a20c8a97"
      },
      "outputs": [
        {
          "output_type": "display_data",
          "data": {
            "text/plain": [
              "0it [00:00, ?it/s]"
            ],
            "application/vnd.jupyter.widget-view+json": {
              "version_major": 2,
              "version_minor": 0,
              "model_id": "3d9712637eba4ee198bc10db60940eb3"
            }
          },
          "metadata": {}
        },
        {
          "output_type": "display_data",
          "data": {
            "text/plain": [
              "0it [00:00, ?it/s]"
            ],
            "application/vnd.jupyter.widget-view+json": {
              "version_major": 2,
              "version_minor": 0,
              "model_id": "9b94bbf957fb497c93fdddac78a934ff"
            }
          },
          "metadata": {}
        },
        {
          "output_type": "stream",
          "name": "stdout",
          "text": [
            "--2023-03-14 02:58:03--  https://zenodo.org/record/2546921/files/camelyonpatch_level_2_split_valid_x.h5.gz?download=1\n",
            "Resolving zenodo.org (zenodo.org)... 188.185.124.72\n",
            "Connecting to zenodo.org (zenodo.org)|188.185.124.72|:443... connected.\n",
            "HTTP request sent, awaiting response... 200 OK\n",
            "Length: 805965320 (769M) [application/octet-stream]\n",
            "Saving to: ‘camelyonpatch_level_2_split_valid_x.h5.gz’\n",
            "\n",
            "elyonpatch_level_2_   1%[                    ]   8.65M   308KB/s    eta 40m 58s^C\n",
            "\n",
            "gzip: camelyonpatch_level_2_split_valid_x.h5.gz: unexpected end of file\n"
          ]
        }
      ],
      "source": [
        "transform = transforms.Compose([\n",
        "    transforms.ToTensor(),\n",
        "])\n",
        "# Download data from open datasets. We only use a subset of the original dataset\n",
        "use_dataset = datasets.PCAM(\n",
        "    root=\"data\",\n",
        "    split='val',\n",
        "    download=True,\n",
        "    transform=transform\n",
        ")\n",
        "\n",
        "\n"
      ]
    },
    {
      "cell_type": "code",
      "execution_count": null,
      "metadata": {
        "id": "4xjXstl1YXCr",
        "colab": {
          "base_uri": "https://localhost:8080/"
        },
        "outputId": "74065251-b533-4983-b358-e51ecb2e672b"
      },
      "outputs": [
        {
          "output_type": "stream",
          "name": "stdout",
          "text": [
            "torch.Size([27306, 3, 96, 96])\n",
            "torch.Size([27306])\n",
            "torch.Size([5462, 3, 96, 96])\n",
            "torch.Size([5462])\n"
          ]
        }
      ],
      "source": [
        "# This step may take some time to complete (Dozens of seconds to minutes, depending on your memory)\n",
        "images_list = []\n",
        "labels_list = []\n",
        "data_point_n = len(use_dataset)\n",
        "train_ratio = 5 / 6\n",
        "train_num = int(data_point_n * train_ratio)\n",
        "\n",
        "for i in range(train_num):\n",
        "    images_list.append(use_dataset[i][0])\n",
        "    labels_list.append(use_dataset[i][1])\n",
        "x_train = torch.stack(images_list)\n",
        "y_train = torch.tensor(labels_list)\n",
        "\n",
        "images_list = []\n",
        "labels_list = []\n",
        "for i in range(train_num, data_point_n):\n",
        "    images_list.append(use_dataset[i][0])\n",
        "    labels_list.append(use_dataset[i][1])\n",
        "x_valid = torch.stack(images_list)\n",
        "y_valid = torch.tensor(labels_list)\n",
        "\n",
        "# Delete the temporary variables to save some memory\n",
        "del images_list\n",
        "del labels_list\n",
        "\n",
        "print(x_train.shape)\n",
        "print(y_train.shape)\n",
        "print(x_valid.shape)\n",
        "print(y_valid.shape)\n"
      ]
    },
    {
      "cell_type": "markdown",
      "metadata": {
        "id": "ZmgQJpTFsoYv"
      },
      "source": [
        "Here we can show the image"
      ]
    },
    {
      "cell_type": "code",
      "execution_count": null,
      "metadata": {
        "id": "PQebE5DJYXCs",
        "colab": {
          "base_uri": "https://localhost:8080/",
          "height": 285
        },
        "outputId": "cf67ebcc-6e9e-4d95-94c8-618d9c3f0d11"
      },
      "outputs": [
        {
          "output_type": "execute_result",
          "data": {
            "text/plain": [
              "<matplotlib.image.AxesImage at 0x7f0ed8049c70>"
            ]
          },
          "metadata": {},
          "execution_count": 5
        },
        {
          "output_type": "display_data",
          "data": {
            "text/plain": [
              "<Figure size 432x288 with 1 Axes>"
            ],
            "image/png": "[encoded data removed]"
          },
          "metadata": {
            "needs_background": "light"
          }
        }
      ],
      "source": [
        "from matplotlib import pyplot\n",
        "rgb_copy = x_train[0].clone()\n",
        "permuted_image = rgb_copy.reshape(3, 96, 96).permute(1, 2, 0)\n",
        "pyplot.imshow(permuted_image)"
      ]
    },
    {
      "cell_type": "code",
      "execution_count": null,
      "metadata": {
        "id": "mhSc8jcHYXCt",
        "colab": {
          "base_uri": "https://localhost:8080/"
        },
        "outputId": "11785cd4-ca46-4913-8751-a794112db9ce"
      },
      "outputs": [
        {
          "output_type": "stream",
          "name": "stdout",
          "text": [
            "torch.Size([27306, 3, 96, 96])\n"
          ]
        }
      ],
      "source": [
        "n, channels, h, w = x_train.shape\n",
        "# print(x_train, y_train)\n",
        "print(x_train.shape)"
      ]
    },
    {
      "cell_type": "markdown",
      "metadata": {
        "id": "iHOW5fIYYXCt"
      },
      "source": [
        "### Build the model\n",
        "PyTorch's built-in automatic gradient calculation feature allows us to use any regular Python function (or callable object) as a model. In this section, we will create a simple linear model by implementing plain matrix multiplication and broadcasted addition. We will also add an activation function using the log_softmax function. It is important to note that while PyTorch offers pre-built loss and activation functions, it is possible to create your own using standard Python code. PyTorch will automatically generate optimized GPU or vectorized CPU code for your custom function, resulting in faster processing times."
      ]
    },
    {
      "cell_type": "code",
      "execution_count": null,
      "metadata": {
        "id": "O95j61dIYXCt"
      },
      "outputs": [],
      "source": [
        "weights = torch.randn(3 * 96 * 96, 2) / math.sqrt(3 * 96 * 96)\n",
        "weights.requires_grad_()\n",
        "bias = torch.zeros(2, requires_grad=True)"
      ]
    },
    {
      "cell_type": "code",
      "execution_count": null,
      "metadata": {
        "id": "g6wZU-TsYXCu"
      },
      "outputs": [],
      "source": [
        "def log_softmax(x):\n",
        "    return x - x.exp().sum(-1).log().unsqueeze(-1)\n",
        "\n",
        "def model(xb):\n",
        "    return log_softmax(xb.reshape(-1, 3*96*96) @ weights + bias)"
      ]
    },
    {
      "cell_type": "code",
      "execution_count": null,
      "metadata": {
        "id": "pkuyp6HYYXCu",
        "colab": {
          "base_uri": "https://localhost:8080/"
        },
        "outputId": "721c1bde-0e5f-4835-a0c5-4ed255b99c5f"
      },
      "outputs": [
        {
          "output_type": "stream",
          "name": "stdout",
          "text": [
            "tensor([-0.7623, -0.6285], grad_fn=<SelectBackward0>) torch.Size([64, 2])\n"
          ]
        }
      ],
      "source": [
        "batch_size = 64\n",
        "\n",
        "xb = x_train[0: batch_size]\n",
        "preds = model(xb)\n",
        "preds[0], preds.shape\n",
        "print(preds[0], preds.shape)"
      ]
    },
    {
      "cell_type": "code",
      "execution_count": null,
      "metadata": {
        "id": "6t5SxLxKYXCu"
      },
      "outputs": [],
      "source": [
        "def nega_log_likehood(input, target):\n",
        "    return -input[range(target.shape[0]), target].mean()\n",
        "\n",
        "# Use negative log-likehood as the loss function\n",
        "loss_func = nega_log_likehood"
      ]
    },
    {
      "cell_type": "code",
      "execution_count": null,
      "metadata": {
        "id": "qBU-j_7XYXCu",
        "colab": {
          "base_uri": "https://localhost:8080/"
        },
        "outputId": "004d7604-768f-420f-f414-162f2419dfd4"
      },
      "outputs": [
        {
          "output_type": "stream",
          "name": "stdout",
          "text": [
            "tensor(0.6827, grad_fn=<NegBackward0>)\n"
          ]
        }
      ],
      "source": [
        "yb = y_train[0:batch_size]\n",
        "print(loss_func(preds, yb))"
      ]
    },
    {
      "cell_type": "markdown",
      "metadata": {
        "id": "SPkKiWNwYXCu"
      },
      "source": [
        "### Task 1: Implement accuracy function (4 points)\n",
        "Accuracy is a commonly used metric for evaluating the performance of classification models. It is defined as the ratio of correctly classified samples to the total number of samples in the dataset. In this part of the assignment, we will be using accuracy as the evaluation metric for our MLP and CNN models on the PCAM dataset. The advantage of using accuracy is that it provides a simple and easy-to-understand measure of model performance. However, it does have some limitations, such as not accounting for class imbalance and not providing information about the types of errors made by the model. As the PCAM dataset is quite balanced, accuracy is an appropriate metric to use for this task. In this part of the assignment, you will be implementing a function to compute accuracy using PyTorch, which will allow you to evaluate the performance of your MLP and CNN models on the PCAM dataset.\n",
        "\n",
        "Please calcualte the accuracy of the outputs.\n",
        "\n",
        "$$\n",
        "Accuracy = \\frac{Number\\ of\\ correct\\ predictions}{Total\\ number\\ of\\ predictions}\n",
        "$$"
      ]
    },
    {
      "cell_type": "code",
      "execution_count": null,
      "metadata": {
        "id": "vJSZh3M1YXCu"
      },
      "outputs": [],
      "source": [
        "#export\n",
        "import torch\n",
        "### DO NOT CHANGE ANY CODE ABOVE THIS LINE IN THIS CELL ###\n",
        "def accuracy(out, target):\n",
        "    \"\"\"\n",
        "    out: tensor with shape (n, k), where k is the number of classes and n is the number of data points. This is the output of the model.\n",
        "    target: tensor with shape (n)\n",
        "    \"\"\"\n",
        "    # TODO: implement the accuracy function\n",
        "    acc = 0.0\n",
        "    _, predicted = torch.max(out,1)\n",
        "    for i in range(len(predicted)):\n",
        "      if predicted[i] == target[i]:\n",
        "        acc += 1\n",
        "    acc = acc / float(len(target)) \n",
        "    return acc\n"
      ]
    },
    {
      "cell_type": "code",
      "execution_count": null,
      "metadata": {
        "id": "yHUhF47gYXCv",
        "colab": {
          "base_uri": "https://localhost:8080/"
        },
        "outputId": "35e61689-9111-4c30-fe01-adc2b9fde9ff"
      },
      "outputs": [
        {
          "output_type": "stream",
          "name": "stdout",
          "text": [
            "0.59375\n"
          ]
        }
      ],
      "source": [
        "print(accuracy(preds, yb))\n"
      ]
    },
    {
      "cell_type": "markdown",
      "metadata": {
        "id": "EwDjX5GpYXCv"
      },
      "source": [
        "After calculating the gradients, we apply them to update the weights and bias of our model. To prevent these actions from being included in the next gradient calculation, we perform this step within the torch.no_grad() context manager. For further details about how PyTorch's Autograd records operations, please refer to the relevant documentation. Subsequently, we reset the gradients to zero, which is necessary to ensure that we begin each loop with a fresh set of gradients. Otherwise, the gradients would accumulate over the duration of our training and produce erroneous results. It is important to note that loss.backward() adds the gradients to the existing values rather than replacing them, which further underscores the necessity of resetting them to zero after each iteration."
      ]
    },
    {
      "cell_type": "code",
      "execution_count": null,
      "metadata": {
        "id": "2-SJ7TSfYXCv"
      },
      "outputs": [],
      "source": [
        "lr = 0.001  # learning rate\n",
        "epochs = 3 # number of epochs to train the model, you can change this parameter if you want\n",
        "\n",
        "for epoch in range(epochs):\n",
        "    for i in range((n - 1) // batch_size + 1):\n",
        "        start_i = i * batch_size\n",
        "        end_i = start_i + batch_size\n",
        "        xb = x_train[start_i:end_i]\n",
        "        yb = y_train[start_i:end_i]\n",
        "        pred = model(xb)\n",
        "        loss = loss_func(pred, yb)\n",
        "\n",
        "        loss.backward()\n",
        "        with torch.no_grad():\n",
        "            weights -= weights.grad * lr\n",
        "            bias -= bias.grad * lr\n",
        "            weights.grad.zero_()\n",
        "            bias.grad.zero_()"
      ]
    },
    {
      "cell_type": "markdown",
      "metadata": {
        "id": "SL_voDkKYXCv"
      },
      "source": [
        "We have successfully developed and trained a basic neural network (in this instance, a logistic regression) entirely from the ground up! Since we have not included any hidden layers, this model is straightforward in its design. Our next step is to verify its performance by evaluating its loss and accuracy, and comparing them with our previous results. It is reasonable to assume that the loss would decrease while the accuracy would increase with each iteration, and our expectations have been met in this regard."
      ]
    },
    {
      "cell_type": "code",
      "execution_count": null,
      "metadata": {
        "id": "Yc-_rG5fYXCv",
        "colab": {
          "base_uri": "https://localhost:8080/"
        },
        "outputId": "3788e9c4-66ce-4019-ca41-b5cfa7e495d5"
      },
      "outputs": [
        {
          "output_type": "stream",
          "name": "stdout",
          "text": [
            "tensor(0.0231, grad_fn=<NegBackward0>) 1.0\n"
          ]
        }
      ],
      "source": [
        "print(loss_func(model(xb), yb), accuracy(model(xb), yb))"
      ]
    },
    {
      "cell_type": "markdown",
      "metadata": {
        "id": "KJvWAYbRYXCv"
      },
      "source": [
        "Our next course of action involves refactoring our existing code to take full advantage of PyTorch's nn classes, thereby enhancing its conciseness and flexibility without sacrificing functionality. Each subsequent step should aim to improve the code in one or more of the following ways: shorten it, enhance its clarity, or increase its flexibility. To begin with, we can employ the functions from torch.nn.functional to replace our hand-written activation and loss functions, making our code more compact. This module includes a wide range of activation and loss functions, as well as several functions for constructing neural networks, such as pooling functions. Although other parts of the library contain classes for implementing linear layers, convolutions, etc., we will explore these aspects further later on. Additionally, PyTorch provides a single function cross_entropy, which combines negative log likelihood loss and log softmax activation, thus enabling us to remove the activation function from our model."
      ]
    },
    {
      "cell_type": "code",
      "execution_count": null,
      "metadata": {
        "id": "7pG1rHN8YXCv"
      },
      "outputs": [],
      "source": [
        "loss_func = torch.nn.functional.cross_entropy\n",
        "\n",
        "def model(xb):\n",
        "    return xb.reshape(-1, 3*96*96) @ weights + bias"
      ]
    },
    {
      "cell_type": "code",
      "execution_count": null,
      "metadata": {
        "id": "IVXCfIZ-YXCv",
        "colab": {
          "base_uri": "https://localhost:8080/"
        },
        "outputId": "914c6471-45f4-4d03-e27e-5b5967aa2f98"
      },
      "outputs": [
        {
          "output_type": "stream",
          "name": "stdout",
          "text": [
            "tensor(0.0231, grad_fn=<NllLossBackward0>) 1.0\n"
          ]
        }
      ],
      "source": [
        "print(loss_func(model(xb), yb), accuracy(model(xb), yb))"
      ]
    },
    {
      "cell_type": "markdown",
      "metadata": {
        "id": "WUdH9DXdYXCw"
      },
      "source": [
        "Our next step is to enhance the clarity and brevity of our training loop by using nn.Module and nn.Parameter. We can achieve this by creating a subclass of nn.Module, which is itself a class that is capable of maintaining state information. This class will hold the weights, bias, and forward method. nn.Module offers several useful methods and attributes (including .parameters() and .zero_grad()) that we can leverage in our implementation."
      ]
    },
    {
      "cell_type": "code",
      "execution_count": null,
      "metadata": {
        "id": "X2mwWN4EYXCw"
      },
      "outputs": [],
      "source": [
        "from torch import nn\n",
        "\n",
        "class MLP(nn.Module):\n",
        "    def __init__(self):\n",
        "        super().__init__()\n",
        "        self.weights = nn.Parameter(torch.randn(96 * 96 * 3, 2) / math.sqrt(96 * 96 * 3))\n",
        "        self.bias = nn.Parameter(torch.zeros(2))\n",
        "\n",
        "    def forward(self, xb):\n",
        "        return xb.reshape(-1, 3*96*96) @ self.weights + self.bias"
      ]
    },
    {
      "cell_type": "code",
      "execution_count": null,
      "metadata": {
        "id": "aj0CMhoqYXCw"
      },
      "outputs": [],
      "source": [
        "model = MLP()"
      ]
    },
    {
      "cell_type": "code",
      "execution_count": null,
      "metadata": {
        "id": "Vk7vdHPZYXCw",
        "colab": {
          "base_uri": "https://localhost:8080/"
        },
        "outputId": "701d3838-76d9-4031-ac86-8bac9410cf93"
      },
      "outputs": [
        {
          "output_type": "stream",
          "name": "stdout",
          "text": [
            "tensor(0.6598, grad_fn=<NllLossBackward0>)\n"
          ]
        }
      ],
      "source": [
        "print(loss_func(model(xb), yb))"
      ]
    },
    {
      "cell_type": "markdown",
      "metadata": {
        "id": "1HnrXj7pYXCx"
      },
      "source": [
        "In the previous version of our training loop, we had to manually update the parameter values by their respective names, as well as zero out the gradients for each parameter individually. However, with the help of the built-in functions of PyTorch's nn.Module, namely model.parameters() and model.zero_grad(), we can significantly simplify these steps, reducing the likelihood of accidentally forgetting to update some parameters, especially in a more complex model. In addition, we'll encapsulate our training loop in a `train` function, enabling us to rerun it with ease in the future."
      ]
    },
    {
      "cell_type": "code",
      "execution_count": null,
      "metadata": {
        "id": "8CLJic2HYXCx"
      },
      "outputs": [],
      "source": [
        "def train():\n",
        "    for epoch in range(epochs):\n",
        "        for i in range((n - 1) // batch_size + 1):\n",
        "            start_i = i * batch_size\n",
        "            end_i = start_i + batch_size\n",
        "            xb = x_train[start_i:end_i]\n",
        "            yb = y_train[start_i:end_i]\n",
        "            pred = model(xb)\n",
        "            loss = loss_func(pred, yb)\n",
        "\n",
        "            loss.backward()\n",
        "            with torch.no_grad():\n",
        "                for p in model.parameters():\n",
        "                    p -= p.grad * lr\n",
        "                model.zero_grad()\n",
        "\n",
        "train()"
      ]
    },
    {
      "cell_type": "code",
      "execution_count": null,
      "metadata": {
        "id": "Q8MoaMRnYXCx",
        "colab": {
          "base_uri": "https://localhost:8080/"
        },
        "outputId": "47eac78b-30b5-48a7-d267-7126152237da"
      },
      "outputs": [
        {
          "output_type": "stream",
          "name": "stdout",
          "text": [
            "tensor(0.0224, grad_fn=<NllLossBackward0>)\n"
          ]
        }
      ],
      "source": [
        "print(loss_func(model(xb), yb))"
      ]
    },
    {
      "cell_type": "markdown",
      "metadata": {
        "id": "Be_k8ACcYXCx"
      },
      "source": [
        "As we proceed to improve our code, we will replace the manual definition and initialization of self.weights and self.bias, as well as the calculation of xb @ self.weights + self.bias, with the PyTorch class nn.Linear, which already handles these processes for us. PyTorch provides various pre-defined layers that can significantly streamline our code, while also improving its speed."
      ]
    },
    {
      "cell_type": "code",
      "execution_count": null,
      "metadata": {
        "id": "gPnS72A2YXCx"
      },
      "outputs": [],
      "source": [
        "class MLP(nn.Module):\n",
        "    def __init__(self):\n",
        "        super().__init__()\n",
        "        self.flatten = nn.Flatten()\n",
        "        self.lin = nn.Linear(96 * 96 * 3, 2)\n",
        "\n",
        "    def forward(self, xb):\n",
        "        xb = self.flatten(xb)\n",
        "        return self.lin(xb)"
      ]
    },
    {
      "cell_type": "code",
      "execution_count": null,
      "metadata": {
        "id": "3bwl30UXYXCx",
        "colab": {
          "base_uri": "https://localhost:8080/"
        },
        "outputId": "099690a1-af33-472e-8dab-dce91abecd4e"
      },
      "outputs": [
        {
          "output_type": "stream",
          "name": "stdout",
          "text": [
            "tensor(0.4182, grad_fn=<NllLossBackward0>)\n"
          ]
        }
      ],
      "source": [
        "model = MLP()\n",
        "print(loss_func(model(xb), yb))"
      ]
    },
    {
      "cell_type": "code",
      "execution_count": null,
      "metadata": {
        "id": "1aweiL7uYXCx",
        "colab": {
          "base_uri": "https://localhost:8080/"
        },
        "outputId": "28360ec6-86d0-487f-9f3a-e37f5875048b"
      },
      "outputs": [
        {
          "output_type": "stream",
          "name": "stdout",
          "text": [
            "tensor(0.0223, grad_fn=<NllLossBackward0>)\n"
          ]
        }
      ],
      "source": [
        "train()\n",
        "\n",
        "print(loss_func(model(xb), yb))"
      ]
    },
    {
      "cell_type": "markdown",
      "metadata": {
        "id": "8G7GLi21YXCy"
      },
      "source": [
        "PyTorch provides a package called torch.optim, which includes a variety of optimization algorithms. We can utilize the step() method from our optimizer to take a forward step, rather than updating each parameter manually. By doing so, we can replace our previous optimization step, which was manually coded."
      ]
    },
    {
      "cell_type": "code",
      "execution_count": null,
      "metadata": {
        "id": "BoIN_oK3YXCy",
        "colab": {
          "base_uri": "https://localhost:8080/"
        },
        "outputId": "128f307c-a0fb-44c3-9e4a-43ca41d70efa"
      },
      "outputs": [
        {
          "output_type": "stream",
          "name": "stdout",
          "text": [
            "tensor(0.4408, grad_fn=<NllLossBackward0>)\n",
            "tensor(0.0231, grad_fn=<NllLossBackward0>)\n"
          ]
        }
      ],
      "source": [
        "from torch import optim\n",
        "def get_model():\n",
        "    model = MLP()\n",
        "    return model, optim.SGD(model.parameters(), lr=lr)\n",
        "\n",
        "model, opt = get_model()\n",
        "print(loss_func(model(xb), yb))\n",
        "\n",
        "for epoch in range(epochs):\n",
        "    for i in range((n - 1) // batch_size + 1):\n",
        "        start_i = i * batch_size\n",
        "        end_i = start_i + batch_size\n",
        "        xb = x_train[start_i:end_i]\n",
        "        yb = y_train[start_i:end_i]\n",
        "        pred = model(xb)\n",
        "        loss = loss_func(pred, yb)\n",
        "\n",
        "        loss.backward()\n",
        "        opt.step()\n",
        "        opt.zero_grad()\n",
        "\n",
        "print(loss_func(model(xb), yb))"
      ]
    },
    {
      "cell_type": "markdown",
      "metadata": {
        "id": "JYBsg3fTYXCy"
      },
      "source": [
        "PyTorch provides an abstract class called Dataset, which can represent any data with a length and a way of indexing. This is done by implementing the len function, which is used by Python's built-in `__len__` function, and the `__getitem__` function, which allows indexing into the data. In this tutorial, we will create a custom FacialLandmarkDataset class that inherits from Dataset.\n",
        "\n",
        "PyTorch also provides a TensorDataset class, which is a Dataset that wraps tensors. By defining a length and indexing method, it allows us to easily iterate, index, and slice along the first dimension of a tensor. This makes it simpler to access both the independent and dependent variables in a single line during training."
      ]
    },
    {
      "cell_type": "code",
      "execution_count": null,
      "metadata": {
        "id": "5QJfVk5MYXCy"
      },
      "outputs": [],
      "source": [
        "from torch.utils.data import TensorDataset"
      ]
    },
    {
      "cell_type": "code",
      "execution_count": null,
      "metadata": {
        "id": "bf-5LGJvYXCy"
      },
      "outputs": [],
      "source": [
        "train_ds = TensorDataset(x_train, y_train)"
      ]
    },
    {
      "cell_type": "code",
      "execution_count": null,
      "metadata": {
        "id": "WLwArOkdYXCy",
        "colab": {
          "base_uri": "https://localhost:8080/"
        },
        "outputId": "ea21100c-a9f8-4be5-ac6b-f3df47674d2b"
      },
      "outputs": [
        {
          "output_type": "stream",
          "name": "stdout",
          "text": [
            "tensor(0.0224, grad_fn=<NllLossBackward0>)\n"
          ]
        }
      ],
      "source": [
        "model, opt = get_model()\n",
        "\n",
        "for epoch in range(epochs):\n",
        "    for i in range((n - 1) // batch_size + 1):\n",
        "        xb, yb = train_ds[i * batch_size: i * batch_size + batch_size]\n",
        "        pred = model(xb)\n",
        "        loss = loss_func(pred, yb)\n",
        "\n",
        "        loss.backward()\n",
        "        opt.step()\n",
        "        opt.zero_grad()\n",
        "\n",
        "print(loss_func(model(xb), yb))"
      ]
    },
    {
      "cell_type": "markdown",
      "metadata": {
        "id": "hOKchhVyYXCy"
      },
      "source": [
        "The task of managing batches is handled by PyTorch's DataLoader. Given any Dataset, a DataLoader can be created. The DataLoader simplifies the iteration over batches. Instead of manually slicing the data into batches, the DataLoader automatically provides each mini-batch."
      ]
    },
    {
      "cell_type": "code",
      "execution_count": null,
      "metadata": {
        "id": "yxBbd2mHYXCy"
      },
      "outputs": [],
      "source": [
        "train_dl = DataLoader(train_ds, batch_size=batch_size)"
      ]
    },
    {
      "cell_type": "code",
      "execution_count": null,
      "metadata": {
        "id": "I7SY07CKYXCy",
        "colab": {
          "base_uri": "https://localhost:8080/"
        },
        "outputId": "1435cd5a-b843-4766-a2df-8f9ac1e028b4"
      },
      "outputs": [
        {
          "output_type": "stream",
          "name": "stdout",
          "text": [
            "tensor(0.0224, grad_fn=<NllLossBackward0>)\n"
          ]
        }
      ],
      "source": [
        "model, opt = get_model()\n",
        "\n",
        "for epoch in range(epochs):\n",
        "    for xb, yb in train_dl:\n",
        "        pred = model(xb)\n",
        "        loss = loss_func(pred, yb)\n",
        "\n",
        "        loss.backward()\n",
        "        opt.step()\n",
        "        opt.zero_grad()\n",
        "\n",
        "print(loss_func(model(xb), yb))"
      ]
    },
    {
      "cell_type": "markdown",
      "metadata": {
        "id": "CpasSeq6YXCz"
      },
      "source": [
        "In the previous section, we focused on setting up a functional training loop for our training data. However, it's important to have a validation set to ensure that we're not overfitting. Shuffling the training data is essential to prevent correlation between batches and overfitting. Conversely, shuffling the validation set is unnecessary because the validation loss will be the same whether or not the data is shuffled. Because the validation set doesn't require backpropagation, it takes up less memory than the training set, which allows us to use a larger batch size and compute the loss more quickly. For this reason, we'll use a batch size for the validation set that is twice as large as the training set's batch size."
      ]
    },
    {
      "cell_type": "code",
      "execution_count": null,
      "metadata": {
        "id": "7_Uz4Ad1YXCz"
      },
      "outputs": [],
      "source": [
        "train_ds = TensorDataset(x_train, y_train)\n",
        "train_dl = DataLoader(train_ds, batch_size=batch_size, shuffle=True)\n",
        "\n",
        "valid_ds = TensorDataset(x_valid, y_valid)\n",
        "valid_dl = DataLoader(valid_ds, batch_size=batch_size * 2)"
      ]
    },
    {
      "cell_type": "code",
      "execution_count": null,
      "metadata": {
        "id": "kFivyPraYXCz",
        "colab": {
          "base_uri": "https://localhost:8080/"
        },
        "outputId": "cf6cdc0d-3700-4058-f761-393903e91c4c"
      },
      "outputs": [
        {
          "output_type": "stream",
          "name": "stdout",
          "text": [
            "0 tensor(0.8255)\n",
            "1 tensor(0.9955)\n",
            "2 tensor(0.9651)\n"
          ]
        }
      ],
      "source": [
        "model, opt = get_model()\n",
        "\n",
        "for epoch in range(epochs):\n",
        "    model.train()\n",
        "    for xb, yb in train_dl:\n",
        "        pred = model(xb)\n",
        "        loss = loss_func(pred, yb)\n",
        "\n",
        "        loss.backward()\n",
        "        opt.step()\n",
        "        opt.zero_grad()\n",
        "\n",
        "    model.eval()\n",
        "    with torch.no_grad():\n",
        "        valid_loss = sum(loss_func(model(xb), yb) for xb, yb in valid_dl)\n",
        "\n",
        "    print(epoch, valid_loss / len(valid_dl))"
      ]
    },
    {
      "cell_type": "markdown",
      "metadata": {
        "id": "ceoKap3MYXCz"
      },
      "source": [
        "Great! It's time for you to get hands-on experience with implementing a Multi-Layer Perceptron (MLP) model using PyTorch. You will be building a fully connected neural network with multiple hidden layers to classify a given dataset. The MLP model is a fundamental and widely used deep learning model, so this is a great opportunity for you to learn by doing."
      ]
    },
    {
      "cell_type": "code",
      "execution_count": null,
      "metadata": {
        "id": "8Z8vex66YXCz",
        "colab": {
          "base_uri": "https://localhost:8080/"
        },
        "outputId": "abc32c64-bc18-416b-cc64-51abdcdf8710"
      },
      "outputs": [
        {
          "output_type": "stream",
          "name": "stdout",
          "text": [
            "Shape of X [N, C, H, W]: torch.Size([400, 3, 96, 96])\n",
            "Shape of y: torch.Size([400]) torch.int64\n"
          ]
        }
      ],
      "source": [
        "# You can change this batch size\n",
        "batch_size = 200\n",
        "\n",
        "# Create data loaders.\n",
        "train_dataloader = DataLoader(train_ds, batch_size=batch_size)\n",
        "valid_dataloader = DataLoader(valid_ds, batch_size=batch_size * 2)\n",
        "\n",
        "for X, y in valid_dataloader:\n",
        "    print(f\"Shape of X [N, C, H, W]: {X.shape}\")\n",
        "    print(f\"Shape of y: {y.shape} {y.dtype}\")\n",
        "    break"
      ]
    },
    {
      "cell_type": "markdown",
      "metadata": {
        "id": "UHj8vM4psoY7"
      },
      "source": [
        "### Task2: Design the MLP model (8 points)\n",
        "\n",
        "In this section of the assignment, you will be designing an MLP model to perform classification on the PCAM dataset. The MLP model class has been provided to you with some blank parts that you need to complete in order to implement the model. "
      ]
    },
    {
      "cell_type": "code",
      "execution_count": null,
      "metadata": {
        "id": "MDa4WQWRYXCz"
      },
      "outputs": [],
      "source": [
        "#export\n",
        "from torch import nn\n",
        "### DO NOT CHANGE ANY CODE ABOVE THIS LINE IN THIS CELL ###\n",
        "\n",
        "# Define model\n",
        "class MLP(nn.Module):\n",
        "    def __init__(self):\n",
        "        super().__init__()\n",
        "        \n",
        "        self.flatten = nn.Flatten()\n",
        "        # TODO: Please design your MLP layers\n",
        "        self.lin = nn.Sequential(nn.Linear(96*96*3,600), nn.ReLU(),nn.Linear(600,200),nn.ReLU(), nn.Linear(200,2))\n",
        "        pass\n",
        "\n",
        "    def forward(self, x):\n",
        "        x = self.flatten(x)\n",
        "        # TODO: Finish this function\n",
        "        return self.lin(x)\n",
        "        pass\n",
        "\n",
        "######################################################################\n",
        "########## DON'T WRITE ANY CODE OUTSIDE THE CLASS! ###################\n",
        "######## IF YOU WANT TO CALL OR TEST IT CREATE A NEW CELL ############\n",
        "######################################################################"
      ]
    },
    {
      "cell_type": "markdown",
      "metadata": {
        "id": "iBGvo33CsoY7"
      },
      "source": [
        "### Use CPU/GPU\n",
        "PyTorch is a powerful deep learning library that supports GPU acceleration for faster training of neural networks. GPUs have been found to be particularly effective for deep learning tasks due to their ability to perform large-scale parallel computations. In this assignment, students have the option to use a GPU if it is available to them. If your computer has a compatible GPU and the necessary drivers installed, PyTorch will automatically detect and use it for training your models. Using a GPU can significantly speed up the training process, which can be particularly useful for larger datasets or more complex models. However, if you do not have access to a GPU, PyTorch will still be able to run on a CPU. Regardless of whether you choose to use a GPU or not, PyTorch provides a user-friendly and efficient platform for implementing and training neural networks for classification tasks."
      ]
    },
    {
      "cell_type": "code",
      "execution_count": null,
      "metadata": {
        "id": "1w-cELSfsoY7",
        "colab": {
          "base_uri": "https://localhost:8080/"
        },
        "outputId": "79585c95-0647-41eb-d550-6c2094770482"
      },
      "outputs": [
        {
          "output_type": "stream",
          "name": "stdout",
          "text": [
            "Using cuda device\n"
          ]
        }
      ],
      "source": [
        "# Get cpu or gpu device for training. mps for mac\n",
        "device = \"cuda\" if torch.cuda.is_available() else \"mps\" if torch.backends.mps.is_available() else \"cpu\"\n",
        "print(f\"Using {device} device\")"
      ]
    },
    {
      "cell_type": "code",
      "execution_count": null,
      "metadata": {
        "id": "9UBiAyOjYXCz",
        "colab": {
          "base_uri": "https://localhost:8080/"
        },
        "outputId": "2ece08cd-aac7-43ea-f757-5b48190dae37"
      },
      "outputs": [
        {
          "output_type": "stream",
          "name": "stdout",
          "text": [
            "MLP(\n",
            "  (flatten): Flatten(start_dim=1, end_dim=-1)\n",
            "  (lin): Sequential(\n",
            "    (0): Linear(in_features=27648, out_features=600, bias=True)\n",
            "    (1): ReLU()\n",
            "    (2): Linear(in_features=600, out_features=200, bias=True)\n",
            "    (3): ReLU()\n",
            "    (4): Linear(in_features=200, out_features=2, bias=True)\n",
            "  )\n",
            ")\n"
          ]
        }
      ],
      "source": [
        "# bind the model to the device\n",
        "model = MLP().to(device)\n",
        "print(model)"
      ]
    },
    {
      "cell_type": "code",
      "execution_count": null,
      "metadata": {
        "id": "LCuojJ6UYXCz"
      },
      "outputs": [],
      "source": [
        "loss_fn = nn.CrossEntropyLoss()\n",
        "# Try different learning rate\n",
        "learning_rate = 0.001\n",
        "\n",
        "# Try different optimizer\n",
        "# optimizer = torch.optim.SGD(model.parameters(), lr=learning_rate)\n",
        "optimizer = torch.optim.Adam(model.parameters(), lr=learning_rate)"
      ]
    },
    {
      "cell_type": "code",
      "execution_count": null,
      "metadata": {
        "id": "2LdUSjOYYXCz"
      },
      "outputs": [],
      "source": [
        "def train(dataloader, model, loss_fn, optimizer):\n",
        "    size = len(dataloader.dataset)\n",
        "    model.train()\n",
        "    for batch, (X, y) in enumerate(dataloader):\n",
        "        X, y = X.to(device), y.to(device)\n",
        "\n",
        "        # Compute prediction error\n",
        "        pred = model(X)\n",
        "        loss = loss_fn(pred, y)\n",
        "\n",
        "        # Backpropagation\n",
        "        optimizer.zero_grad()\n",
        "        loss.backward()\n",
        "        optimizer.step()\n",
        "\n",
        "        if batch % 100 == 0:\n",
        "            loss, current = loss.item(), batch * len(X)\n",
        "            print(f\"loss: {loss:>7f}  [{current:>5d}/{size:>5d}]\")"
      ]
    },
    {
      "cell_type": "code",
      "execution_count": null,
      "metadata": {
        "id": "kCuN5r0vYXCz"
      },
      "outputs": [],
      "source": [
        "def test(dataloader, model, loss_fn):\n",
        "    size = len(dataloader.dataset)\n",
        "    num_batches = len(dataloader)\n",
        "    model.eval()\n",
        "    test_loss, correct = 0, 0\n",
        "    with torch.no_grad():\n",
        "        for X, y in dataloader:\n",
        "            X, y = X.to(device), y.to(device)\n",
        "            pred = model(X)\n",
        "            test_loss += loss_fn(pred, y).item()\n",
        "            correct += (pred.argmax(1) == y).type(torch.float).sum().item()\n",
        "    test_loss /= num_batches\n",
        "    correct /= size\n",
        "    print(f\"Valid Error: \\n Accuracy: {(100*correct):>0.1f}%, Avg loss: {test_loss:>8f} \\n\")"
      ]
    },
    {
      "cell_type": "code",
      "execution_count": null,
      "metadata": {
        "id": "W10ACsU9YXC0",
        "colab": {
          "base_uri": "https://localhost:8080/"
        },
        "outputId": "3adbfa58-7555-401d-f05c-5238104c5cc3"
      },
      "outputs": [
        {
          "output_type": "stream",
          "name": "stdout",
          "text": [
            "Epoch 1\n",
            "-------------------------------\n",
            "loss: 0.704111  [    0/27306]\n",
            "loss: 0.801762  [20000/27306]\n",
            "Valid Error: \n",
            " Accuracy: 62.5%, Avg loss: 0.620945 \n",
            "\n",
            "Epoch 2\n",
            "-------------------------------\n",
            "loss: 0.616161  [    0/27306]\n",
            "loss: 0.747264  [20000/27306]\n",
            "Valid Error: \n",
            " Accuracy: 63.0%, Avg loss: 0.603363 \n",
            "\n",
            "Epoch 3\n",
            "-------------------------------\n",
            "loss: 0.600160  [    0/27306]\n",
            "loss: 0.729152  [20000/27306]\n",
            "Valid Error: \n",
            " Accuracy: 63.7%, Avg loss: 0.597034 \n",
            "\n",
            "Epoch 4\n",
            "-------------------------------\n",
            "loss: 0.592865  [    0/27306]\n",
            "loss: 0.755751  [20000/27306]\n",
            "Valid Error: \n",
            " Accuracy: 64.0%, Avg loss: 0.589525 \n",
            "\n",
            "Epoch 5\n",
            "-------------------------------\n",
            "loss: 0.588597  [    0/27306]\n",
            "loss: 0.745741  [20000/27306]\n",
            "Valid Error: \n",
            " Accuracy: 64.4%, Avg loss: 0.581528 \n",
            "\n",
            "Epoch 6\n",
            "-------------------------------\n",
            "loss: 0.584988  [    0/27306]\n",
            "loss: 0.766104  [20000/27306]\n",
            "Valid Error: \n",
            " Accuracy: 64.3%, Avg loss: 0.584026 \n",
            "\n",
            "Epoch 7\n",
            "-------------------------------\n",
            "loss: 0.586001  [    0/27306]\n",
            "loss: 0.693786  [20000/27306]\n",
            "Valid Error: \n",
            " Accuracy: 64.4%, Avg loss: 0.575473 \n",
            "\n",
            "Epoch 8\n",
            "-------------------------------\n",
            "loss: 0.576489  [    0/27306]\n",
            "loss: 0.700756  [20000/27306]\n",
            "Valid Error: \n",
            " Accuracy: 65.6%, Avg loss: 0.567408 \n",
            "\n",
            "Epoch 9\n",
            "-------------------------------\n",
            "loss: 0.567301  [    0/27306]\n",
            "loss: 0.716278  [20000/27306]\n",
            "Valid Error: \n",
            " Accuracy: 66.5%, Avg loss: 0.566499 \n",
            "\n",
            "Epoch 10\n",
            "-------------------------------\n",
            "loss: 0.568083  [    0/27306]\n",
            "loss: 0.750459  [20000/27306]\n",
            "Valid Error: \n",
            " Accuracy: 67.5%, Avg loss: 0.555443 \n",
            "\n",
            "Done!\n"
          ]
        }
      ],
      "source": [
        "epochs = 10\n",
        "for t in range(epochs):\n",
        "    print(f\"Epoch {t+1}\\n-------------------------------\")\n",
        "    train(train_dataloader, model, loss_fn, optimizer)\n",
        "    test(valid_dataloader, model, loss_fn)\n",
        "print(\"Done!\")"
      ]
    },
    {
      "cell_type": "markdown",
      "metadata": {
        "id": "ctD5T7BlsoY8"
      },
      "source": [
        "### Save the model\n",
        "You can save the model you have trained and load it when you need. When you have finished this assignment, you need to upload both this notebook and the models you trained to gradescope."
      ]
    },
    {
      "cell_type": "code",
      "source": [
        "from google.colab import drive\n",
        "drive.mount('/content/drive')\n",
        "\n"
      ],
      "metadata": {
        "id": "9BVD48vo_jLO",
        "colab": {
          "base_uri": "https://localhost:8080/"
        },
        "outputId": "8e7b3f8b-f66d-4b6b-9a42-3f6dea408731"
      },
      "execution_count": null,
      "outputs": [
        {
          "output_type": "stream",
          "name": "stdout",
          "text": [
            "Drive already mounted at /content/drive; to attempt to forcibly remount, call drive.mount(\"/content/drive\", force_remount=True).\n"
          ]
        }
      ]
    },
    {
      "cell_type": "code",
      "execution_count": null,
      "metadata": {
        "id": "NEcTMXOjsoY8",
        "colab": {
          "base_uri": "https://localhost:8080/"
        },
        "outputId": "984eb27d-aebb-449f-d021-ee0ff3ffeef8"
      },
      "outputs": [
        {
          "output_type": "stream",
          "name": "stdout",
          "text": [
            "Saved PyTorch Model State to mlp.pth\n"
          ]
        }
      ],
      "source": [
        "torch.save(model.state_dict(), \"mlp.pth\")\n",
        "print(\"Saved PyTorch Model State to mlp.pth\")"
      ]
    },
    {
      "cell_type": "code",
      "execution_count": null,
      "metadata": {
        "id": "MDJE8_VxsoY8",
        "colab": {
          "base_uri": "https://localhost:8080/"
        },
        "outputId": "4c2eb5bd-a119-4b61-f5fe-9da587c0c12f"
      },
      "outputs": [
        {
          "output_type": "stream",
          "name": "stdout",
          "text": [
            "Valid Error: \n",
            " Accuracy: 67.5%, Avg loss: 0.555443 \n",
            "\n"
          ]
        }
      ],
      "source": [
        "model = MLP()\n",
        "model.load_state_dict(torch.load(\"mlp.pth\"))\n",
        "model = model.to(device)\n",
        "model.eval()\n",
        "test(valid_dataloader, model, loss_fn)"
      ]
    },
    {
      "cell_type": "markdown",
      "metadata": {
        "id": "Z4tjmTeJsoY8"
      },
      "source": [
        "## CNN\n",
        "In this section of the assignment, we will be using Convolutional Neural Networks (CNNs) to perform classification on the PCAM dataset. CNNs are a type of neural network that are specifically designed for image classification tasks. The main idea behind CNNs is to use convolutional layers to extract spatial features from the input image, followed by pooling layers to reduce the spatial dimensions of the features. The extracted features are then flattened and passed through one or more fully connected layers to perform the final classification."
      ]
    },
    {
      "cell_type": "markdown",
      "metadata": {
        "id": "IiS2_mpcsoY8"
      },
      "source": [
        "### Task 3: Design the CNN model (8 points)\n",
        "In this assignment, we have provided a CNN model class for you to use as a starting point. However, you will need to complete some blank parts of the class in order to implement the model. You will be using PyTorch to design and train your CNN model. During the training process, your model will learn to automatically extract relevant features from the input images, which can significantly improve classification accuracy compared to traditional machine learning algorithms. By the end of this section, you will have gained hands-on experience in designing a CNN model using PyTorch and trained it to classify images with high accuracy.\n",
        "\n",
        "You can take a look at the \"Deep Learning\" slides if you do not know where to start."
      ]
    },
    {
      "cell_type": "code",
      "execution_count": null,
      "metadata": {
        "id": "W8nJYWG2soY8"
      },
      "outputs": [],
      "source": [
        "#export\n",
        "### DO NOT CHANGE ANY CODE ABOVE THIS LINE IN THIS CELL ###\n",
        "\n",
        "class CNN(nn.Module):\n",
        "    def __init__(self):\n",
        "        super().__init__()\n",
        "        # TODO: Please design your CNN layers. They are typically made of some Conv2d layers and pool layers \n",
        "        self.model = nn.Sequential(nn.Conv2d(3, 32, kernel_size=5),nn.ReLU(),\n",
        "                                   nn.Conv2d(32, 64, kernel_size=5),nn.ReLU(),\n",
        "                                   nn.MaxPool2d((2, 2)), \n",
        "                                   nn.Flatten(),\n",
        "                                   nn.Linear(123904,1024),\n",
        "                                   nn.ReLU(),\n",
        "                                   nn.Linear(1024,512),\n",
        "                                   nn.ReLU(),\n",
        "                                   nn.Linear(512,2))\n",
        "        pass\n",
        "\n",
        "    def forward(self, x):\n",
        "        x = self.model(x)\n",
        "        return x\n",
        "        pass \n",
        "\n",
        "######################################################################\n",
        "########## DON'T WRITE ANY CODE OUTSIDE THE CLASS! ###################\n",
        "######## IF YOU WANT TO CALL OR TEST IT CREATE A NEW CELL ############\n",
        "######################################################################"
      ]
    },
    {
      "cell_type": "code",
      "execution_count": null,
      "metadata": {
        "id": "DVCOSm5fsoY8",
        "colab": {
          "base_uri": "https://localhost:8080/"
        },
        "outputId": "1dacd9cb-ab06-4928-9b0e-9b4b8a87dfde"
      },
      "outputs": [
        {
          "output_type": "stream",
          "name": "stdout",
          "text": [
            "CNN(\n",
            "  (model): Sequential(\n",
            "    (0): Conv2d(3, 32, kernel_size=(5, 5), stride=(1, 1))\n",
            "    (1): ReLU()\n",
            "    (2): Conv2d(32, 64, kernel_size=(5, 5), stride=(1, 1))\n",
            "    (3): ReLU()\n",
            "    (4): MaxPool2d(kernel_size=(2, 2), stride=(2, 2), padding=0, dilation=1, ceil_mode=False)\n",
            "    (5): Flatten(start_dim=1, end_dim=-1)\n",
            "    (6): Linear(in_features=123904, out_features=1024, bias=True)\n",
            "    (7): ReLU()\n",
            "    (8): Linear(in_features=1024, out_features=512, bias=True)\n",
            "    (9): ReLU()\n",
            "    (10): Linear(in_features=512, out_features=2, bias=True)\n",
            "  )\n",
            ")\n"
          ]
        }
      ],
      "source": [
        "model = CNN().to(device)\n",
        "print(model)"
      ]
    },
    {
      "cell_type": "code",
      "execution_count": null,
      "metadata": {
        "id": "NJBd_en7soY8"
      },
      "outputs": [],
      "source": [
        "loss_fn = nn.CrossEntropyLoss()\n",
        "# Try different learning rate\n",
        "learning_rate = 0.001\n",
        "# optimizer = torch.optim.SGD(model.parameters(), lr=learning_rate)\n",
        "optimizer = torch.optim.Adam(model.parameters(), lr=learning_rate)"
      ]
    },
    {
      "cell_type": "code",
      "execution_count": null,
      "metadata": {
        "id": "RU48Wt8hsoY9",
        "colab": {
          "base_uri": "https://localhost:8080/",
          "height": 530
        },
        "outputId": "4097eaf5-d198-40b5-95f9-21516aaa1e40"
      },
      "outputs": [
        {
          "output_type": "stream",
          "name": "stdout",
          "text": [
            "Epoch 1\n",
            "-------------------------------\n",
            "loss: 0.690870  [    0/27306]\n",
            "loss: 0.691210  [25600/27306]\n",
            "Valid Error: \n",
            " Accuracy: 49.2%, Avg loss: 0.693664 \n",
            "\n",
            "Epoch 2\n",
            "-------------------------------\n",
            "loss: 0.692038  [    0/27306]\n"
          ]
        },
        {
          "output_type": "error",
          "ename": "KeyboardInterrupt",
          "evalue": "ignored",
          "traceback": [
            "\u001b[0;31m---------------------------------------------------------------------------\u001b[0m",
            "\u001b[0;31mKeyboardInterrupt\u001b[0m                         Traceback (most recent call last)",
            "\u001b[0;32m<ipython-input-199-1ba7cf70c373>\u001b[0m in \u001b[0;36m<module>\u001b[0;34m\u001b[0m\n\u001b[1;32m      2\u001b[0m \u001b[0;32mfor\u001b[0m \u001b[0mt\u001b[0m \u001b[0;32min\u001b[0m \u001b[0mrange\u001b[0m\u001b[0;34m(\u001b[0m\u001b[0mepochs\u001b[0m\u001b[0;34m)\u001b[0m\u001b[0;34m:\u001b[0m\u001b[0;34m\u001b[0m\u001b[0;34m\u001b[0m\u001b[0m\n\u001b[1;32m      3\u001b[0m     \u001b[0mprint\u001b[0m\u001b[0;34m(\u001b[0m\u001b[0;34mf\"Epoch {t+1}\\n-------------------------------\"\u001b[0m\u001b[0;34m)\u001b[0m\u001b[0;34m\u001b[0m\u001b[0;34m\u001b[0m\u001b[0m\n\u001b[0;32m----> 4\u001b[0;31m     \u001b[0mtrain\u001b[0m\u001b[0;34m(\u001b[0m\u001b[0mtrain_dataloader\u001b[0m\u001b[0;34m,\u001b[0m \u001b[0mmodel\u001b[0m\u001b[0;34m,\u001b[0m \u001b[0mloss_fn\u001b[0m\u001b[0;34m,\u001b[0m \u001b[0moptimizer\u001b[0m\u001b[0;34m)\u001b[0m\u001b[0;34m\u001b[0m\u001b[0;34m\u001b[0m\u001b[0m\n\u001b[0m\u001b[1;32m      5\u001b[0m     \u001b[0mtest\u001b[0m\u001b[0;34m(\u001b[0m\u001b[0mvalid_dataloader\u001b[0m\u001b[0;34m,\u001b[0m \u001b[0mmodel\u001b[0m\u001b[0;34m,\u001b[0m \u001b[0mloss_fn\u001b[0m\u001b[0;34m)\u001b[0m\u001b[0;34m\u001b[0m\u001b[0;34m\u001b[0m\u001b[0m\n\u001b[1;32m      6\u001b[0m \u001b[0mprint\u001b[0m\u001b[0;34m(\u001b[0m\u001b[0;34m\"Done!\"\u001b[0m\u001b[0;34m)\u001b[0m\u001b[0;34m\u001b[0m\u001b[0;34m\u001b[0m\u001b[0m\n",
            "\u001b[0;32m<ipython-input-182-6239349613f7>\u001b[0m in \u001b[0;36mtrain\u001b[0;34m(dataloader, model, loss_fn, optimizer)\u001b[0m\n\u001b[1;32m      3\u001b[0m     \u001b[0mmodel\u001b[0m\u001b[0;34m.\u001b[0m\u001b[0mtrain\u001b[0m\u001b[0;34m(\u001b[0m\u001b[0;34m)\u001b[0m\u001b[0;34m\u001b[0m\u001b[0;34m\u001b[0m\u001b[0m\n\u001b[1;32m      4\u001b[0m     \u001b[0;32mfor\u001b[0m \u001b[0mbatch\u001b[0m\u001b[0;34m,\u001b[0m \u001b[0;34m(\u001b[0m\u001b[0mX\u001b[0m\u001b[0;34m,\u001b[0m \u001b[0my\u001b[0m\u001b[0;34m)\u001b[0m \u001b[0;32min\u001b[0m \u001b[0menumerate\u001b[0m\u001b[0;34m(\u001b[0m\u001b[0mdataloader\u001b[0m\u001b[0;34m)\u001b[0m\u001b[0;34m:\u001b[0m\u001b[0;34m\u001b[0m\u001b[0;34m\u001b[0m\u001b[0m\n\u001b[0;32m----> 5\u001b[0;31m         \u001b[0mX\u001b[0m\u001b[0;34m,\u001b[0m \u001b[0my\u001b[0m \u001b[0;34m=\u001b[0m \u001b[0mX\u001b[0m\u001b[0;34m.\u001b[0m\u001b[0mto\u001b[0m\u001b[0;34m(\u001b[0m\u001b[0mdevice\u001b[0m\u001b[0;34m)\u001b[0m\u001b[0;34m,\u001b[0m \u001b[0my\u001b[0m\u001b[0;34m.\u001b[0m\u001b[0mto\u001b[0m\u001b[0;34m(\u001b[0m\u001b[0mdevice\u001b[0m\u001b[0;34m)\u001b[0m\u001b[0;34m\u001b[0m\u001b[0;34m\u001b[0m\u001b[0m\n\u001b[0m\u001b[1;32m      6\u001b[0m \u001b[0;34m\u001b[0m\u001b[0m\n\u001b[1;32m      7\u001b[0m         \u001b[0;31m# Compute prediction error\u001b[0m\u001b[0;34m\u001b[0m\u001b[0;34m\u001b[0m\u001b[0m\n",
            "\u001b[0;31mKeyboardInterrupt\u001b[0m: "
          ]
        }
      ],
      "source": [
        "epochs = 10\n",
        "for t in range(epochs):\n",
        "    print(f\"Epoch {t+1}\\n-------------------------------\")\n",
        "    train(train_dataloader, model, loss_fn, optimizer)\n",
        "    test(valid_dataloader, model, loss_fn)\n",
        "print(\"Done!\")"
      ]
    },
    {
      "cell_type": "code",
      "execution_count": null,
      "metadata": {
        "id": "N5ZRdgpwsoY9"
      },
      "outputs": [],
      "source": [
        "torch.save(model.state_dict(), \"cnn.pth\")\n",
        "print(\"Saved PyTorch Model State to cnn.pth\")"
      ]
    },
    {
      "cell_type": "code",
      "execution_count": null,
      "metadata": {
        "id": "_r-S7ZawsoY9"
      },
      "outputs": [],
      "source": [
        "model = CNN()\n",
        "model.load_state_dict(torch.load(\"cnn.pth\"))\n",
        "model = model.to(device)\n",
        "model.eval()\n",
        "test(valid_dataloader, model, loss_fn)"
      ]
    },
    {
      "cell_type": "markdown",
      "metadata": {
        "id": "AM-XLUbhsoY9"
      },
      "source": [
        "## Submission\n",
        "\n",
        "When you have tested your code locally, you can upload your notebook with the saved model files to gradescope to get evaluated.\n",
        "\n",
        "Please submit a zip file to Gradescope that includes the following:\n",
        "\n",
        "1. The `hw2_nn.ipynb` notebook file.\n",
        "2. The `mlp.pth` MLP saved model file.\n",
        "3. The `cnn.path` CNN saved model file.\n",
        "4. The `weights.txt` file in Q1.\n",
        "5. The `hw2_clf.ipynb` notebook file.\n",
        "6. The `hw2_autoencoder` notebook file.\n",
        "\n",
        "These saved models should have the same structure as the class of model in your notebook.\n",
        "\n",
        "Please make sure that your code runs correctly and that you have included all necessary files in the zip file.\n",
        "Please test your code before submitting to ensure that it runs correctly and all the outputs match the expected results.\n",
        "\n",
        "**IMPORTANT**: Please **do not** include a root directory in the zip file. The three files should be compressed directly."
      ]
    },
    {
      "cell_type": "code",
      "source": [],
      "metadata": {
        "id": "kSbnecYnzri0"
      },
      "execution_count": null,
      "outputs": []
    }
  ],
  "metadata": {
    "accelerator": "GPU",
    "colab": {
      "provenance": []
    },
    "gpuClass": "standard",
    "kernelspec": {
      "display_name": "py3_8_env",
      "language": "python",
      "name": "python3"
    },
    "language_info": {
      "codemirror_mode": {
        "name": "ipython",
        "version": 3
      },
      "file_extension": ".py",
      "mimetype": "text/x-python",
      "name": "python",
      "nbconvert_exporter": "python",
      "pygments_lexer": "ipython3",
      "version": "3.8.9"
    },
    "orig_nbformat": 4,
    "vscode": {
      "interpreter": {
        "hash": "62d6956ce3d91f763f1b1cb5000a8130923351a5b73c1bdd976d9a0bfec7bf14"
      }
    },
    "widgets": {
      "application/vnd.jupyter.widget-state+json": {
        "3d9712637eba4ee198bc10db60940eb3": {
          "model_module": "@jupyter-widgets/controls",
          "model_name": "HBoxModel",
          "model_module_version": "1.5.0",
          "state": {
            "_dom_classes": [],
            "_model_module": "@jupyter-widgets/controls",
            "_model_module_version": "1.5.0",
            "_model_name": "HBoxModel",
            "_view_count": null,
            "_view_module": "@jupyter-widgets/controls",
            "_view_module_version": "1.5.0",
            "_view_name": "HBoxView",
            "box_style": "",
            "children": [
              "IPY_MODEL_9a06e7ca22d649699d52a103a37f6bb5",
              "IPY_MODEL_df1b4737521f4a9f90f78a9af95e44e7",
              "IPY_MODEL_432d59bfdc3e40a6bad913340d97f932"
            ],
            "layout": "IPY_MODEL_01d92dc96d084f19a32323e441dca877"
          }
        },
        "9a06e7ca22d649699d52a103a37f6bb5": {
          "model_module": "@jupyter-widgets/controls",
          "model_name": "HTMLModel",
          "model_module_version": "1.5.0",
          "state": {
            "_dom_classes": [],
            "_model_module": "@jupyter-widgets/controls",
            "_model_module_version": "1.5.0",
            "_model_name": "HTMLModel",
            "_view_count": null,
            "_view_module": "@jupyter-widgets/controls",
            "_view_module_version": "1.5.0",
            "_view_name": "HTMLView",
            "description": "",
            "description_tooltip": null,
            "layout": "IPY_MODEL_eb40268b8f7c40f79de7ee13a44e55ca",
            "placeholder": "​",
            "style": "IPY_MODEL_bf5a3070e9514f36992752571a86f0d2",
            "value": ""
          }
        },
        "df1b4737521f4a9f90f78a9af95e44e7": {
          "model_module": "@jupyter-widgets/controls",
          "model_name": "FloatProgressModel",
          "model_module_version": "1.5.0",
          "state": {
            "_dom_classes": [],
            "_model_module": "@jupyter-widgets/controls",
            "_model_module_version": "1.5.0",
            "_model_name": "FloatProgressModel",
            "_view_count": null,
            "_view_module": "@jupyter-widgets/controls",
            "_view_module_version": "1.5.0",
            "_view_name": "ProgressView",
            "bar_style": "success",
            "description": "",
            "description_tooltip": null,
            "layout": "IPY_MODEL_4a95529915b6455aa017fdf970626b10",
            "max": 1,
            "min": 0,
            "orientation": "horizontal",
            "style": "IPY_MODEL_9d04b2e2e3af4b08b808790f5974c02d",
            "value": 1
          }
        },
        "432d59bfdc3e40a6bad913340d97f932": {
          "model_module": "@jupyter-widgets/controls",
          "model_name": "HTMLModel",
          "model_module_version": "1.5.0",
          "state": {
            "_dom_classes": [],
            "_model_module": "@jupyter-widgets/controls",
            "_model_module_version": "1.5.0",
            "_model_name": "HTMLModel",
            "_view_count": null,
            "_view_module": "@jupyter-widgets/controls",
            "_view_module_version": "1.5.0",
            "_view_name": "HTMLView",
            "description": "",
            "description_tooltip": null,
            "layout": "IPY_MODEL_746102b63d8f41fcb5cdd7ee9c3ef791",
            "placeholder": "​",
            "style": "IPY_MODEL_6410da94e3aa496a9f1877a53003e51b",
            "value": " 805965320/? [00:14&lt;00:00, 87967005.83it/s]"
          }
        },
        "01d92dc96d084f19a32323e441dca877": {
          "model_module": "@jupyter-widgets/base",
          "model_name": "LayoutModel",
          "model_module_version": "1.2.0",
          "state": {
            "_model_module": "@jupyter-widgets/base",
            "_model_module_version": "1.2.0",
            "_model_name": "LayoutModel",
            "_view_count": null,
            "_view_module": "@jupyter-widgets/base",
            "_view_module_version": "1.2.0",
            "_view_name": "LayoutView",
            "align_content": null,
            "align_items": null,
            "align_self": null,
            "border": null,
            "bottom": null,
            "display": null,
            "flex": null,
            "flex_flow": null,
            "grid_area": null,
            "grid_auto_columns": null,
            "grid_auto_flow": null,
            "grid_auto_rows": null,
            "grid_column": null,
            "grid_gap": null,
            "grid_row": null,
            "grid_template_areas": null,
            "grid_template_columns": null,
            "grid_template_rows": null,
            "height": null,
            "justify_content": null,
            "justify_items": null,
            "left": null,
            "margin": null,
            "max_height": null,
            "max_width": null,
            "min_height": null,
            "min_width": null,
            "object_fit": null,
            "object_position": null,
            "order": null,
            "overflow": null,
            "overflow_x": null,
            "overflow_y": null,
            "padding": null,
            "right": null,
            "top": null,
            "visibility": null,
            "width": null
          }
        },
        "eb40268b8f7c40f79de7ee13a44e55ca": {
          "model_module": "@jupyter-widgets/base",
          "model_name": "LayoutModel",
          "model_module_version": "1.2.0",
          "state": {
            "_model_module": "@jupyter-widgets/base",
            "_model_module_version": "1.2.0",
            "_model_name": "LayoutModel",
            "_view_count": null,
            "_view_module": "@jupyter-widgets/base",
            "_view_module_version": "1.2.0",
            "_view_name": "LayoutView",
            "align_content": null,
            "align_items": null,
            "align_self": null,
            "border": null,
            "bottom": null,
            "display": null,
            "flex": null,
            "flex_flow": null,
            "grid_area": null,
            "grid_auto_columns": null,
            "grid_auto_flow": null,
            "grid_auto_rows": null,
            "grid_column": null,
            "grid_gap": null,
            "grid_row": null,
            "grid_template_areas": null,
            "grid_template_columns": null,
            "grid_template_rows": null,
            "height": null,
            "justify_content": null,
            "justify_items": null,
            "left": null,
            "margin": null,
            "max_height": null,
            "max_width": null,
            "min_height": null,
            "min_width": null,
            "object_fit": null,
            "object_position": null,
            "order": null,
            "overflow": null,
            "overflow_x": null,
            "overflow_y": null,
            "padding": null,
            "right": null,
            "top": null,
            "visibility": null,
            "width": null
          }
        },
        "bf5a3070e9514f36992752571a86f0d2": {
          "model_module": "@jupyter-widgets/controls",
          "model_name": "DescriptionStyleModel",
          "model_module_version": "1.5.0",
          "state": {
            "_model_module": "@jupyter-widgets/controls",
            "_model_module_version": "1.5.0",
            "_model_name": "DescriptionStyleModel",
            "_view_count": null,
            "_view_module": "@jupyter-widgets/base",
            "_view_module_version": "1.2.0",
            "_view_name": "StyleView",
            "description_width": ""
          }
        },
        "4a95529915b6455aa017fdf970626b10": {
          "model_module": "@jupyter-widgets/base",
          "model_name": "LayoutModel",
          "model_module_version": "1.2.0",
          "state": {
            "_model_module": "@jupyter-widgets/base",
            "_model_module_version": "1.2.0",
            "_model_name": "LayoutModel",
            "_view_count": null,
            "_view_module": "@jupyter-widgets/base",
            "_view_module_version": "1.2.0",
            "_view_name": "LayoutView",
            "align_content": null,
            "align_items": null,
            "align_self": null,
            "border": null,
            "bottom": null,
            "display": null,
            "flex": null,
            "flex_flow": null,
            "grid_area": null,
            "grid_auto_columns": null,
            "grid_auto_flow": null,
            "grid_auto_rows": null,
            "grid_column": null,
            "grid_gap": null,
            "grid_row": null,
            "grid_template_areas": null,
            "grid_template_columns": null,
            "grid_template_rows": null,
            "height": null,
            "justify_content": null,
            "justify_items": null,
            "left": null,
            "margin": null,
            "max_height": null,
            "max_width": null,
            "min_height": null,
            "min_width": null,
            "object_fit": null,
            "object_position": null,
            "order": null,
            "overflow": null,
            "overflow_x": null,
            "overflow_y": null,
            "padding": null,
            "right": null,
            "top": null,
            "visibility": null,
            "width": "20px"
          }
        },
        "9d04b2e2e3af4b08b808790f5974c02d": {
          "model_module": "@jupyter-widgets/controls",
          "model_name": "ProgressStyleModel",
          "model_module_version": "1.5.0",
          "state": {
            "_model_module": "@jupyter-widgets/controls",
            "_model_module_version": "1.5.0",
            "_model_name": "ProgressStyleModel",
            "_view_count": null,
            "_view_module": "@jupyter-widgets/base",
            "_view_module_version": "1.2.0",
            "_view_name": "StyleView",
            "bar_color": null,
            "description_width": ""
          }
        },
        "746102b63d8f41fcb5cdd7ee9c3ef791": {
          "model_module": "@jupyter-widgets/base",
          "model_name": "LayoutModel",
          "model_module_version": "1.2.0",
          "state": {
            "_model_module": "@jupyter-widgets/base",
            "_model_module_version": "1.2.0",
            "_model_name": "LayoutModel",
            "_view_count": null,
            "_view_module": "@jupyter-widgets/base",
            "_view_module_version": "1.2.0",
            "_view_name": "LayoutView",
            "align_content": null,
            "align_items": null,
            "align_self": null,
            "border": null,
            "bottom": null,
            "display": null,
            "flex": null,
            "flex_flow": null,
            "grid_area": null,
            "grid_auto_columns": null,
            "grid_auto_flow": null,
            "grid_auto_rows": null,
            "grid_column": null,
            "grid_gap": null,
            "grid_row": null,
            "grid_template_areas": null,
            "grid_template_columns": null,
            "grid_template_rows": null,
            "height": null,
            "justify_content": null,
            "justify_items": null,
            "left": null,
            "margin": null,
            "max_height": null,
            "max_width": null,
            "min_height": null,
            "min_width": null,
            "object_fit": null,
            "object_position": null,
            "order": null,
            "overflow": null,
            "overflow_x": null,
            "overflow_y": null,
            "padding": null,
            "right": null,
            "top": null,
            "visibility": null,
            "width": null
          }
        },
        "6410da94e3aa496a9f1877a53003e51b": {
          "model_module": "@jupyter-widgets/controls",
          "model_name": "DescriptionStyleModel",
          "model_module_version": "1.5.0",
          "state": {
            "_model_module": "@jupyter-widgets/controls",
            "_model_module_version": "1.5.0",
            "_model_name": "DescriptionStyleModel",
            "_view_count": null,
            "_view_module": "@jupyter-widgets/base",
            "_view_module_version": "1.2.0",
            "_view_name": "StyleView",
            "description_width": ""
          }
        },
        "9b94bbf957fb497c93fdddac78a934ff": {
          "model_module": "@jupyter-widgets/controls",
          "model_name": "HBoxModel",
          "model_module_version": "1.5.0",
          "state": {
            "_dom_classes": [],
            "_model_module": "@jupyter-widgets/controls",
            "_model_module_version": "1.5.0",
            "_model_name": "HBoxModel",
            "_view_count": null,
            "_view_module": "@jupyter-widgets/controls",
            "_view_module_version": "1.5.0",
            "_view_name": "HBoxView",
            "box_style": "",
            "children": [
              "IPY_MODEL_b78f97a1c5cd49619f1c70ff79a60d07",
              "IPY_MODEL_864a3cd2ec3f4a73944af7b48aa004fb",
              "IPY_MODEL_c7e3bf4f5b9241328c830838f78d34b5"
            ],
            "layout": "IPY_MODEL_5a69e97e025245e3a09c752347411554"
          }
        },
        "b78f97a1c5cd49619f1c70ff79a60d07": {
          "model_module": "@jupyter-widgets/controls",
          "model_name": "HTMLModel",
          "model_module_version": "1.5.0",
          "state": {
            "_dom_classes": [],
            "_model_module": "@jupyter-widgets/controls",
            "_model_module_version": "1.5.0",
            "_model_name": "HTMLModel",
            "_view_count": null,
            "_view_module": "@jupyter-widgets/controls",
            "_view_module_version": "1.5.0",
            "_view_name": "HTMLView",
            "description": "",
            "description_tooltip": null,
            "layout": "IPY_MODEL_e481ed77ffb441b7b7993f73573c1d64",
            "placeholder": "​",
            "style": "IPY_MODEL_4ad0259d0eb34657a9b2a608456a65c0",
            "value": ""
          }
        },
        "864a3cd2ec3f4a73944af7b48aa004fb": {
          "model_module": "@jupyter-widgets/controls",
          "model_name": "FloatProgressModel",
          "model_module_version": "1.5.0",
          "state": {
            "_dom_classes": [],
            "_model_module": "@jupyter-widgets/controls",
            "_model_module_version": "1.5.0",
            "_model_name": "FloatProgressModel",
            "_view_count": null,
            "_view_module": "@jupyter-widgets/controls",
            "_view_module_version": "1.5.0",
            "_view_name": "ProgressView",
            "bar_style": "success",
            "description": "",
            "description_tooltip": null,
            "layout": "IPY_MODEL_84c777e678814da9ab04317da2c4990e",
            "max": 1,
            "min": 0,
            "orientation": "horizontal",
            "style": "IPY_MODEL_46cb9af4a5564866ac107cc0b2352c08",
            "value": 1
          }
        },
        "c7e3bf4f5b9241328c830838f78d34b5": {
          "model_module": "@jupyter-widgets/controls",
          "model_name": "HTMLModel",
          "model_module_version": "1.5.0",
          "state": {
            "_dom_classes": [],
            "_model_module": "@jupyter-widgets/controls",
            "_model_module_version": "1.5.0",
            "_model_name": "HTMLModel",
            "_view_count": null,
            "_view_module": "@jupyter-widgets/controls",
            "_view_module_version": "1.5.0",
            "_view_name": "HTMLView",
            "description": "",
            "description_tooltip": null,
            "layout": "IPY_MODEL_aea1389d6fd643329cfba9b10dcba89b",
            "placeholder": "​",
            "style": "IPY_MODEL_09e68ab83c3349229c5b613097fa5596",
            "value": " 3038/? [00:00&lt;00:00, 107524.48it/s]"
          }
        },
        "5a69e97e025245e3a09c752347411554": {
          "model_module": "@jupyter-widgets/base",
          "model_name": "LayoutModel",
          "model_module_version": "1.2.0",
          "state": {
            "_model_module": "@jupyter-widgets/base",
            "_model_module_version": "1.2.0",
            "_model_name": "LayoutModel",
            "_view_count": null,
            "_view_module": "@jupyter-widgets/base",
            "_view_module_version": "1.2.0",
            "_view_name": "LayoutView",
            "align_content": null,
            "align_items": null,
            "align_self": null,
            "border": null,
            "bottom": null,
            "display": null,
            "flex": null,
            "flex_flow": null,
            "grid_area": null,
            "grid_auto_columns": null,
            "grid_auto_flow": null,
            "grid_auto_rows": null,
            "grid_column": null,
            "grid_gap": null,
            "grid_row": null,
            "grid_template_areas": null,
            "grid_template_columns": null,
            "grid_template_rows": null,
            "height": null,
            "justify_content": null,
            "justify_items": null,
            "left": null,
            "margin": null,
            "max_height": null,
            "max_width": null,
            "min_height": null,
            "min_width": null,
            "object_fit": null,
            "object_position": null,
            "order": null,
            "overflow": null,
            "overflow_x": null,
            "overflow_y": null,
            "padding": null,
            "right": null,
            "top": null,
            "visibility": null,
            "width": null
          }
        },
        "e481ed77ffb441b7b7993f73573c1d64": {
          "model_module": "@jupyter-widgets/base",
          "model_name": "LayoutModel",
          "model_module_version": "1.2.0",
          "state": {
            "_model_module": "@jupyter-widgets/base",
            "_model_module_version": "1.2.0",
            "_model_name": "LayoutModel",
            "_view_count": null,
            "_view_module": "@jupyter-widgets/base",
            "_view_module_version": "1.2.0",
            "_view_name": "LayoutView",
            "align_content": null,
            "align_items": null,
            "align_self": null,
            "border": null,
            "bottom": null,
            "display": null,
            "flex": null,
            "flex_flow": null,
            "grid_area": null,
            "grid_auto_columns": null,
            "grid_auto_flow": null,
            "grid_auto_rows": null,
            "grid_column": null,
            "grid_gap": null,
            "grid_row": null,
            "grid_template_areas": null,
            "grid_template_columns": null,
            "grid_template_rows": null,
            "height": null,
            "justify_content": null,
            "justify_items": null,
            "left": null,
            "margin": null,
            "max_height": null,
            "max_width": null,
            "min_height": null,
            "min_width": null,
            "object_fit": null,
            "object_position": null,
            "order": null,
            "overflow": null,
            "overflow_x": null,
            "overflow_y": null,
            "padding": null,
            "right": null,
            "top": null,
            "visibility": null,
            "width": null
          }
        },
        "4ad0259d0eb34657a9b2a608456a65c0": {
          "model_module": "@jupyter-widgets/controls",
          "model_name": "DescriptionStyleModel",
          "model_module_version": "1.5.0",
          "state": {
            "_model_module": "@jupyter-widgets/controls",
            "_model_module_version": "1.5.0",
            "_model_name": "DescriptionStyleModel",
            "_view_count": null,
            "_view_module": "@jupyter-widgets/base",
            "_view_module_version": "1.2.0",
            "_view_name": "StyleView",
            "description_width": ""
          }
        },
        "84c777e678814da9ab04317da2c4990e": {
          "model_module": "@jupyter-widgets/base",
          "model_name": "LayoutModel",
          "model_module_version": "1.2.0",
          "state": {
            "_model_module": "@jupyter-widgets/base",
            "_model_module_version": "1.2.0",
            "_model_name": "LayoutModel",
            "_view_count": null,
            "_view_module": "@jupyter-widgets/base",
            "_view_module_version": "1.2.0",
            "_view_name": "LayoutView",
            "align_content": null,
            "align_items": null,
            "align_self": null,
            "border": null,
            "bottom": null,
            "display": null,
            "flex": null,
            "flex_flow": null,
            "grid_area": null,
            "grid_auto_columns": null,
            "grid_auto_flow": null,
            "grid_auto_rows": null,
            "grid_column": null,
            "grid_gap": null,
            "grid_row": null,
            "grid_template_areas": null,
            "grid_template_columns": null,
            "grid_template_rows": null,
            "height": null,
            "justify_content": null,
            "justify_items": null,
            "left": null,
            "margin": null,
            "max_height": null,
            "max_width": null,
            "min_height": null,
            "min_width": null,
            "object_fit": null,
            "object_position": null,
            "order": null,
            "overflow": null,
            "overflow_x": null,
            "overflow_y": null,
            "padding": null,
            "right": null,
            "top": null,
            "visibility": null,
            "width": "20px"
          }
        },
        "46cb9af4a5564866ac107cc0b2352c08": {
          "model_module": "@jupyter-widgets/controls",
          "model_name": "ProgressStyleModel",
          "model_module_version": "1.5.0",
          "state": {
            "_model_module": "@jupyter-widgets/controls",
            "_model_module_version": "1.5.0",
            "_model_name": "ProgressStyleModel",
            "_view_count": null,
            "_view_module": "@jupyter-widgets/base",
            "_view_module_version": "1.2.0",
            "_view_name": "StyleView",
            "bar_color": null,
            "description_width": ""
          }
        },
        "aea1389d6fd643329cfba9b10dcba89b": {
          "model_module": "@jupyter-widgets/base",
          "model_name": "LayoutModel",
          "model_module_version": "1.2.0",
          "state": {
            "_model_module": "@jupyter-widgets/base",
            "_model_module_version": "1.2.0",
            "_model_name": "LayoutModel",
            "_view_count": null,
            "_view_module": "@jupyter-widgets/base",
            "_view_module_version": "1.2.0",
            "_view_name": "LayoutView",
            "align_content": null,
            "align_items": null,
            "align_self": null,
            "border": null,
            "bottom": null,
            "display": null,
            "flex": null,
            "flex_flow": null,
            "grid_area": null,
            "grid_auto_columns": null,
            "grid_auto_flow": null,
            "grid_auto_rows": null,
            "grid_column": null,
            "grid_gap": null,
            "grid_row": null,
            "grid_template_areas": null,
            "grid_template_columns": null,
            "grid_template_rows": null,
            "height": null,
            "justify_content": null,
            "justify_items": null,
            "left": null,
            "margin": null,
            "max_height": null,
            "max_width": null,
            "min_height": null,
            "min_width": null,
            "object_fit": null,
            "object_position": null,
            "order": null,
            "overflow": null,
            "overflow_x": null,
            "overflow_y": null,
            "padding": null,
            "right": null,
            "top": null,
            "visibility": null,
            "width": null
          }
        },
        "09e68ab83c3349229c5b613097fa5596": {
          "model_module": "@jupyter-widgets/controls",
          "model_name": "DescriptionStyleModel",
          "model_module_version": "1.5.0",
          "state": {
            "_model_module": "@jupyter-widgets/controls",
            "_model_module_version": "1.5.0",
            "_model_name": "DescriptionStyleModel",
            "_view_count": null,
            "_view_module": "@jupyter-widgets/base",
            "_view_module_version": "1.2.0",
            "_view_name": "StyleView",
            "description_width": ""
          }
        }
      }
    }
  },
  "nbformat": 4,
  "nbformat_minor": 0
}